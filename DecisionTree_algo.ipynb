{
 "cells": [
  {
   "cell_type": "markdown",
   "id": "noticed-coverage",
   "metadata": {},
   "source": [
    "### Library-library yang digunakan "
   ]
  },
  {
   "cell_type": "code",
   "execution_count": 1,
   "id": "hindu-reservoir",
   "metadata": {
    "scrolled": true
   },
   "outputs": [],
   "source": [
    "import pandas as pd \n",
    "import numpy as np \n",
    "from numpy import mean, std, percentile\n",
    "from sklearn.compose import ColumnTransformer\n",
    "from sklearn.preprocessing import LabelEncoder, OrdinalEncoder, OneHotEncoder \n",
    "from sklearn.model_selection import cross_val_score, RepeatedStratifiedKFold\n",
    "from sklearn.preprocessing import PolynomialFeatures\n",
    "from sklearn.pipeline import Pipeline\n",
    "from sklearn.tree import DecisionTreeClassifier\n",
    "import seaborn as sns\n",
    "import matplotlib.pyplot as plt"
   ]
  },
  {
   "cell_type": "markdown",
   "id": "republican-allergy",
   "metadata": {},
   "source": [
    "Berikut adalah tampilan 10 baris data yang ada di dalam dataset"
   ]
  },
  {
   "cell_type": "code",
   "execution_count": 2,
   "id": "ranking-dominant",
   "metadata": {},
   "outputs": [
    {
     "data": {
      "text/html": [
       "<div>\n",
       "<style scoped>\n",
       "    .dataframe tbody tr th:only-of-type {\n",
       "        vertical-align: middle;\n",
       "    }\n",
       "\n",
       "    .dataframe tbody tr th {\n",
       "        vertical-align: top;\n",
       "    }\n",
       "\n",
       "    .dataframe thead th {\n",
       "        text-align: right;\n",
       "    }\n",
       "</style>\n",
       "<table border=\"1\" class=\"dataframe\">\n",
       "  <thead>\n",
       "    <tr style=\"text-align: right;\">\n",
       "      <th></th>\n",
       "      <th>Jenis Beasiswa</th>\n",
       "      <th>Tingkat Pendidikan yang Dituju</th>\n",
       "      <th>Negara Tujuan Kuliah</th>\n",
       "      <th>Bidang Studi yang dipilih saat mendaftar</th>\n",
       "      <th>Mendaftar dengan menggunakan LoA sesuai ketentuan LPDP</th>\n",
       "      <th>Apakah anda dinyatakan Lulus Seleksi Substansi Akademik Pada gelombang I Tahun 2021?</th>\n",
       "      <th>Jumlah Jawaban Benar pada Tes Penalaran Verbal</th>\n",
       "      <th>Jumlah Jawaban Benar pada Tes Kuantitatif</th>\n",
       "      <th>Jumlah Jawaban Benar pada Tes Pemecahan Masalah</th>\n",
       "      <th>[optional] Kampus/universitas tujuan saat ini (pilihan 1)</th>\n",
       "    </tr>\n",
       "  </thead>\n",
       "  <tbody>\n",
       "    <tr>\n",
       "      <th>0</th>\n",
       "      <td>Targeted</td>\n",
       "      <td>S2</td>\n",
       "      <td>Dalam negeri</td>\n",
       "      <td>TRP</td>\n",
       "      <td>Tidak</td>\n",
       "      <td>Ya</td>\n",
       "      <td>10</td>\n",
       "      <td>12</td>\n",
       "      <td>6</td>\n",
       "      <td>Universitas Indonesia</td>\n",
       "    </tr>\n",
       "    <tr>\n",
       "      <th>1</th>\n",
       "      <td>Reguler</td>\n",
       "      <td>S2</td>\n",
       "      <td>Luar Negeri</td>\n",
       "      <td>ENE</td>\n",
       "      <td>Ya, dengan Loa</td>\n",
       "      <td>Ya</td>\n",
       "      <td>17</td>\n",
       "      <td>22</td>\n",
       "      <td>8</td>\n",
       "      <td>UCL</td>\n",
       "    </tr>\n",
       "    <tr>\n",
       "      <th>2</th>\n",
       "      <td>Targeted</td>\n",
       "      <td>S2</td>\n",
       "      <td>Luar Negeri</td>\n",
       "      <td>ELE</td>\n",
       "      <td>Ya, dengan Loa</td>\n",
       "      <td>Ya</td>\n",
       "      <td>16</td>\n",
       "      <td>18</td>\n",
       "      <td>7</td>\n",
       "      <td>KTH Sweden</td>\n",
       "    </tr>\n",
       "    <tr>\n",
       "      <th>3</th>\n",
       "      <td>Reguler</td>\n",
       "      <td>S2</td>\n",
       "      <td>Dalam negeri</td>\n",
       "      <td>LIN</td>\n",
       "      <td>Tidak</td>\n",
       "      <td>Tidak</td>\n",
       "      <td>15</td>\n",
       "      <td>12</td>\n",
       "      <td>4</td>\n",
       "      <td>UGM</td>\n",
       "    </tr>\n",
       "    <tr>\n",
       "      <th>4</th>\n",
       "      <td>Afirmasi</td>\n",
       "      <td>S2</td>\n",
       "      <td>Luar Negeri</td>\n",
       "      <td>LIN</td>\n",
       "      <td>Tidak</td>\n",
       "      <td>Ya</td>\n",
       "      <td>16</td>\n",
       "      <td>9</td>\n",
       "      <td>7</td>\n",
       "      <td>University of Birmingham</td>\n",
       "    </tr>\n",
       "    <tr>\n",
       "      <th>5</th>\n",
       "      <td>Targeted</td>\n",
       "      <td>S2</td>\n",
       "      <td>Luar Negeri</td>\n",
       "      <td>Dev</td>\n",
       "      <td>Ya, dengan Loa</td>\n",
       "      <td>Ya</td>\n",
       "      <td>17</td>\n",
       "      <td>11</td>\n",
       "      <td>4</td>\n",
       "      <td>KU leuven</td>\n",
       "    </tr>\n",
       "    <tr>\n",
       "      <th>6</th>\n",
       "      <td>Afirmasi</td>\n",
       "      <td>S2</td>\n",
       "      <td>Dalam negeri</td>\n",
       "      <td>HUM</td>\n",
       "      <td>Tidak</td>\n",
       "      <td>Ya</td>\n",
       "      <td>17</td>\n",
       "      <td>16</td>\n",
       "      <td>4</td>\n",
       "      <td>Universitas Gadjah Mada</td>\n",
       "    </tr>\n",
       "    <tr>\n",
       "      <th>7</th>\n",
       "      <td>Reguler</td>\n",
       "      <td>S2</td>\n",
       "      <td>Dalam negeri</td>\n",
       "      <td>TRP</td>\n",
       "      <td>Tidak</td>\n",
       "      <td>Ya</td>\n",
       "      <td>14</td>\n",
       "      <td>19</td>\n",
       "      <td>4</td>\n",
       "      <td>NaN</td>\n",
       "    </tr>\n",
       "    <tr>\n",
       "      <th>8</th>\n",
       "      <td>Reguler</td>\n",
       "      <td>S2</td>\n",
       "      <td>Luar Negeri</td>\n",
       "      <td>AFR</td>\n",
       "      <td>Ya, dengan Loa</td>\n",
       "      <td>Ya</td>\n",
       "      <td>13</td>\n",
       "      <td>16</td>\n",
       "      <td>7</td>\n",
       "      <td>Uni of Reading</td>\n",
       "    </tr>\n",
       "    <tr>\n",
       "      <th>9</th>\n",
       "      <td>Targeted</td>\n",
       "      <td>S3</td>\n",
       "      <td>Luar Negeri</td>\n",
       "      <td>BUS</td>\n",
       "      <td>Tidak</td>\n",
       "      <td>Ya</td>\n",
       "      <td>16</td>\n",
       "      <td>18</td>\n",
       "      <td>8</td>\n",
       "      <td>University of Auckland</td>\n",
       "    </tr>\n",
       "  </tbody>\n",
       "</table>\n",
       "</div>"
      ],
      "text/plain": [
       "  Jenis Beasiswa Tingkat Pendidikan yang Dituju Negara Tujuan Kuliah  \\\n",
       "0       Targeted                             S2         Dalam negeri   \n",
       "1        Reguler                             S2          Luar Negeri   \n",
       "2       Targeted                             S2          Luar Negeri   \n",
       "3        Reguler                             S2         Dalam negeri   \n",
       "4       Afirmasi                             S2          Luar Negeri   \n",
       "5       Targeted                             S2          Luar Negeri   \n",
       "6       Afirmasi                             S2         Dalam negeri   \n",
       "7        Reguler                             S2         Dalam negeri   \n",
       "8        Reguler                             S2          Luar Negeri   \n",
       "9       Targeted                             S3          Luar Negeri   \n",
       "\n",
       "  Bidang Studi yang dipilih saat mendaftar  \\\n",
       "0                                      TRP   \n",
       "1                                      ENE   \n",
       "2                                      ELE   \n",
       "3                                      LIN   \n",
       "4                                      LIN   \n",
       "5                                      Dev   \n",
       "6                                      HUM   \n",
       "7                                      TRP   \n",
       "8                                      AFR   \n",
       "9                                      BUS   \n",
       "\n",
       "  Mendaftar dengan menggunakan LoA sesuai ketentuan LPDP  \\\n",
       "0                                              Tidak       \n",
       "1                                     Ya, dengan Loa       \n",
       "2                                     Ya, dengan Loa       \n",
       "3                                              Tidak       \n",
       "4                                              Tidak       \n",
       "5                                     Ya, dengan Loa       \n",
       "6                                              Tidak       \n",
       "7                                              Tidak       \n",
       "8                                     Ya, dengan Loa       \n",
       "9                                              Tidak       \n",
       "\n",
       "  Apakah anda dinyatakan Lulus Seleksi Substansi Akademik Pada gelombang I Tahun 2021?  \\\n",
       "0                                                 Ya                                     \n",
       "1                                                 Ya                                     \n",
       "2                                                 Ya                                     \n",
       "3                                              Tidak                                     \n",
       "4                                                 Ya                                     \n",
       "5                                                 Ya                                     \n",
       "6                                                 Ya                                     \n",
       "7                                                 Ya                                     \n",
       "8                                                 Ya                                     \n",
       "9                                                 Ya                                     \n",
       "\n",
       "   Jumlah Jawaban Benar pada Tes Penalaran Verbal  \\\n",
       "0                                              10   \n",
       "1                                              17   \n",
       "2                                              16   \n",
       "3                                              15   \n",
       "4                                              16   \n",
       "5                                              17   \n",
       "6                                              17   \n",
       "7                                              14   \n",
       "8                                              13   \n",
       "9                                              16   \n",
       "\n",
       "   Jumlah Jawaban Benar pada Tes Kuantitatif  \\\n",
       "0                                         12   \n",
       "1                                         22   \n",
       "2                                         18   \n",
       "3                                         12   \n",
       "4                                          9   \n",
       "5                                         11   \n",
       "6                                         16   \n",
       "7                                         19   \n",
       "8                                         16   \n",
       "9                                         18   \n",
       "\n",
       "   Jumlah Jawaban Benar pada Tes Pemecahan Masalah  \\\n",
       "0                                                6   \n",
       "1                                                8   \n",
       "2                                                7   \n",
       "3                                                4   \n",
       "4                                                7   \n",
       "5                                                4   \n",
       "6                                                4   \n",
       "7                                                4   \n",
       "8                                                7   \n",
       "9                                                8   \n",
       "\n",
       "  [optional] Kampus/universitas tujuan saat ini (pilihan 1)  \n",
       "0                              Universitas Indonesia         \n",
       "1                                                UCL         \n",
       "2                                         KTH Sweden         \n",
       "3                                                UGM         \n",
       "4                           University of Birmingham         \n",
       "5                                          KU leuven         \n",
       "6                            Universitas Gadjah Mada         \n",
       "7                                                NaN         \n",
       "8                                     Uni of Reading         \n",
       "9                             University of Auckland         "
      ]
     },
     "execution_count": 2,
     "metadata": {},
     "output_type": "execute_result"
    }
   ],
   "source": [
    "df = pd.read_csv('Hasil TES SBK LPDP Gelombang 1 - 2021.csv', encoding ='latin1')\n",
    "df.head(10)"
   ]
  },
  {
   "cell_type": "code",
   "execution_count": 3,
   "id": "composed-lucas",
   "metadata": {},
   "outputs": [
    {
     "data": {
      "text/plain": [
       "(431, 10)"
      ]
     },
     "execution_count": 3,
     "metadata": {},
     "output_type": "execute_result"
    }
   ],
   "source": [
    "df.shape"
   ]
  },
  {
   "cell_type": "markdown",
   "id": "friendly-delivery",
   "metadata": {},
   "source": [
    "Selanjutnya, disini kita akan mengecek apakah ada fitur yang memiliki nilai nan didalamnya"
   ]
  },
  {
   "cell_type": "code",
   "execution_count": 4,
   "id": "smaller-satin",
   "metadata": {},
   "outputs": [
    {
     "data": {
      "text/plain": [
       "Jenis Beasiswa                                                                           0\n",
       "Tingkat Pendidikan yang Dituju                                                           0\n",
       "Negara Tujuan Kuliah                                                                     0\n",
       "Bidang Studi yang dipilih saat mendaftar                                                 0\n",
       "Mendaftar dengan menggunakan LoA sesuai ketentuan LPDP                                   0\n",
       "Apakah anda dinyatakan Lulus Seleksi Substansi Akademik Pada gelombang I Tahun 2021?     0\n",
       "Jumlah Jawaban Benar pada Tes Penalaran Verbal                                           0\n",
       "Jumlah Jawaban Benar pada Tes Kuantitatif                                                0\n",
       "Jumlah Jawaban Benar pada Tes Pemecahan Masalah                                          0\n",
       "[optional] Kampus/universitas tujuan saat ini (pilihan 1)                               79\n",
       "dtype: int64"
      ]
     },
     "execution_count": 4,
     "metadata": {},
     "output_type": "execute_result"
    }
   ],
   "source": [
    "df.isnull().sum()"
   ]
  },
  {
   "cell_type": "markdown",
   "id": "yellow-backup",
   "metadata": {},
   "source": [
    "Dari hasil pengecekan diatas, kita dapat melihat bahwa hampir keseluruhan fitur tidak memiliki nilai null, kecuali pada fitur terakhir yaitu fitur [ [optional] Kampus/universitas tujuan saat ini (pilihan 1)] sebanyak 79 nilai null yang terdeteksi   "
   ]
  },
  {
   "cell_type": "markdown",
   "id": "threatened-breach",
   "metadata": {},
   "source": [
    "Selanjutnya disini kita akan melihat nilai unik yang ada pada setiap fitur untuk mengidentifikasi langkah-langkah apa yang akan kita lakukan dalam melakukan data cleaning"
   ]
  },
  {
   "cell_type": "code",
   "execution_count": 5,
   "id": "iraqi-trading",
   "metadata": {},
   "outputs": [
    {
     "name": "stdout",
     "output_type": "stream",
     "text": [
      "['Targeted' 'Reguler' 'Afirmasi']\n",
      "['S2' 'S3']\n",
      "['Dalam negeri' 'Luar Negeri']\n",
      "['TRP' 'ENE' 'ELE' 'LIN' 'Dev' 'HUM' 'AFR' 'BUS' 'WAT' 'MAR' 'SOS' 'HOS'\n",
      " 'STA' 'EDU' 'DEV' 'ICT' 'LAW' 'SGY' 'ACF' 'IPA' 'PHA' 'FOR' 'COM' 'DEF'\n",
      " 'PUB' 'SOs' 'ATM' 'ENV' 'ENG' '-' 'CBS' 'CHE' 'KES' 'ECT' 'AER' 'ARC'\n",
      " 'BIO' 'POL' 'Bus' 'M' 'Afr' 'SOC' 'MED' 'CIV' 'PSY' 'MET' 'ECO' 'Bio'\n",
      " 'TEK' 'FOO' 'Tra' 'ART' 'ENT' 'Civ' 'TRA' 'GEO' 'LNY' 'BK' 'ETC' 'PHY'\n",
      " 'INS' 'ACC' 'OCE' 'bus' 'MAT' 'Ipa' 'For' 'BuS' 'EAM' 'NUR' 'PTK' 'ANT'\n",
      " 'CE' 'Trp' 'TEL' 'EDu' 'Hum' '0' 'arc' 'Psi' 'TP' 'TFM' 'AGB' 'Law' '718']\n",
      "['Tidak' 'Ya, dengan Loa']\n",
      "['Ya' 'Tidak']\n",
      "[10 17 16 15 14 13 20 12 18 19 11  9  7  8 21  6 22  0 23]\n",
      "[12 22 18  9 11 16 19 15 14 13 17 21  8 20  7 23 10  6 24  0  5  2 25]\n",
      "[ 6  8  7  4  5  3  9  2 12 10  1  0]\n",
      "['Universitas Indonesia' 'UCL' 'KTH Sweden' 'UGM'\n",
      " 'University of Birmingham' 'KU leuven' 'Universitas Gadjah Mada' nan\n",
      " 'Uni of Reading' 'University of Auckland' 'IHE Delft'\n",
      " 'University of Michigan' 'Universitas Airlangga' 'Durham University'\n",
      " 'UNY' 'New York University' 'Penn State University' 'York University'\n",
      " 'University of Glasgow' 'University of Edinburgh' 'IPB' 'Titech' 'UPI'\n",
      " 'TU Delft' 'Lund University' 'Univ of Leeds' 'LSE' 'ITS' 'UI'\n",
      " 'University of Sussex' 'ITB' 'Pennsylvania State University'\n",
      " 'University of Melbourne' 'Columbia University' 'University of Adelaide'\n",
      " 'Universitas Pendidikan Indonesia' 'unsw' 'Georgetown University' 'Ugm'\n",
      " 'Sweden' 'Wageningen University and Research' 'University of Tokyo' 'MIT'\n",
      " 'ICL' 'INSEAD' 'University of Helsinki' 'University of Twente'\n",
      " 'Johns Hopkins University' 'KCL' 'UNESA' 'Wur' 'Harvard University' 'NUS'\n",
      " 'University of Southern California' 'UC Berkeley'\n",
      " 'University of Manchester' 'U of Alberta' 'Arizona State University' 'U'\n",
      " 'Monash university australia' 'Purdue University' 'ISS'\n",
      " 'University of Groningen' 'Unsoed' 'University of Bristol' 'WUR'\n",
      " 'Stanford University' 'Kth' 'NTU Singapore' 'UAL'\n",
      " 'Bournemouth University' 'UNAIR' 'ANU' 'Nus' 'Uni of Michigan'\n",
      " 'University of Leeds' 'TU München' 'Goldsmiths, University of London'\n",
      " 'Erasmus University Rotterdam' 'Unpad' 'Institut Pertanian Bogor'\n",
      " \"King's College London\" 'Universitas Tadulako' 'TU DELFT'\n",
      " 'Universitas Malang' 'UNNES' 'UC Davis'\n",
      " 'The Australian National University' 'Uppsala University'\n",
      " 'University of Warwick' 'Leiden University' 'The University of Sheffield'\n",
      " 'University of Cambridge' 'Universitas gadjah mada' 'Ghent University'\n",
      " 'Itb' 'Imperial College London' 'MSU' 'KCL - Strategic Communication'\n",
      " 'The University of Manchester' 'Carnegie Mellon University' 'Unsw'\n",
      " 'University of Geneva' 'London School of Hygiene & Tropical Medicine'\n",
      " 'Yale' 'Wageningen University & Research' 'Univ of Melbourne'\n",
      " 'UIN Jakarta' 'University of Sydney' 'universitas indonesia'\n",
      " 'Uni of Auckland' 'Universitas Padjadjaran' 'Ui' 'Monahs University'\n",
      " 'Cornell University' 'University of Wisconsin - Madison'\n",
      " 'Politecnico di Milano' 'University of Pennsylvania'\n",
      " 'King\\x92s College London' 'USA' 'UK' 'JHU' 'UM' 'UPI BANDUNG'\n",
      " 'university of birmingham' 'Monash' 'Universitas Malaya'\n",
      " 'Univ. Brawijaya' 'ETH Zurich' 'University of Amsterdam' 'RWTH Aachen'\n",
      " 'UNSW' 'Radboud University' 'Wageningen' 'UniMelb'\n",
      " 'Wageningen University' 'UNIVERSITAS INDONESIA' 'Yonsei University'\n",
      " 'British Columbia University Canada' 'Leiden University Belanda'\n",
      " 'University of Texas' 'Universitas Negeri Malang'\n",
      " 'Universitas Muhammadiyah Surakarta' 'Univ Pendidikan Indonesia/ UPI'\n",
      " 'Bath School of Management: MBA' 'NTU' 'Sriwijaya' 'Sheffield'\n",
      " 'University of york' 'Warwick' 'Osaka university' 'ugm'\n",
      " 'politecnico di milano' 'ucl' 'undip' 'unpad' 'Universitas Sebelas Maret'\n",
      " 'Unhas' 'ISI Denpasar' 'Upi' 'Universitas hasanuddin'\n",
      " 'Universitas Negeri Yogyakarta' 'Kings College London' 'UB' 'UGM, UI'\n",
      " 'Institut Teknologi Bandung']\n"
     ]
    }
   ],
   "source": [
    "for col in df:\n",
    "    print(df[col].unique())"
   ]
  },
  {
   "cell_type": "markdown",
   "id": "quiet-bacon",
   "metadata": {},
   "source": [
    "Dari hasil diatas, ada beberapa hal yang telah saya pertimbangkan untuk sementara dalam melakukan data cleaning, antara lain:\n",
    "1. Kita akan mengubah kolom dengan nilai object/string menjadi numerik dengan melakukan encoder\n",
    "2. Pada kolom indeks 4 dan 10, kita akan menjadikan seluruh huruf tersebut menjadi huruf kecil. Hal ini dikarenakan ada beberapa data yang harusnya berada pada kelas yang sama menjadi berbeda dikarenakan perbedaan huruf besar dan kecil. contoh fitur pada indeks 4 : TRP dan Trp harusnya satu kelas. jika tidak kita satukan maka saat kita melakukan encoder(perubahan data ke numerik), data tersebut akan berada di kelas yang berbeda\n",
    "3. Pada fitur indeks 4, kita juga dapat melihat bahwa terdapat data dengan nilai yang tidak sesuai (bukan dalam bentuk abjad) seperti, '0', '718', dan '-'. Disini kita juga akan melihat apakah masuk akal data dengan nilai ini jika dilihat hubungannya dengan fitur-fitur lainnya. "
   ]
  },
  {
   "cell_type": "markdown",
   "id": "conscious-prison",
   "metadata": {},
   "source": [
    "## Melakukan Cleaning Data"
   ]
  },
  {
   "cell_type": "markdown",
   "id": "unusual-interval",
   "metadata": {},
   "source": [
    "Pertama kita akan melakukan sesuatu terhadap nilai null yang ada pada kolom terakhir (indeks ke-10)\n",
    "\n",
    "Asumsi : Berdasarkan judul dari fitur tersebut yaitu [[optional] Kampus/universitas tujuan saat ini (pilihan 1)], fitur ini memiliki arti bahwa terdapat pilihan optional yang mana setiap murid dapat mengisi ataupun tidak mengisinya. Oleh karena itu, nilai nan disini berkemungkinan besar memiliki arti bahwa ada murid yang masih belum memiliki keputusan untuk menempuh universitas yang ingin ditujunya. Oleh karena itu, disini saya akan melakukan imputasi nilai null tersebut menjadi string 'belum'.  "
   ]
  },
  {
   "cell_type": "markdown",
   "id": "patient-landscape",
   "metadata": {},
   "source": [
    "#### Melakukan imputasi data dengan replace()"
   ]
  },
  {
   "cell_type": "code",
   "execution_count": 6,
   "id": "sunrise-identifier",
   "metadata": {},
   "outputs": [
    {
     "data": {
      "text/plain": [
       "0       Universitas Indonesia\n",
       "1                         UCL\n",
       "2                  KTH Sweden\n",
       "3                         UGM\n",
       "4    University of Birmingham\n",
       "5                   KU leuven\n",
       "6     Universitas Gadjah Mada\n",
       "7                       belum\n",
       "8              Uni of Reading\n",
       "9      University of Auckland\n",
       "Name: [optional] Kampus/universitas tujuan saat ini (pilihan 1), dtype: object"
      ]
     },
     "execution_count": 6,
     "metadata": {},
     "output_type": "execute_result"
    }
   ],
   "source": [
    "df.iloc[:, -1] = df.iloc[:, -1].replace(np.nan, 'belum')\n",
    "df.iloc[:, -1].head(10)"
   ]
  },
  {
   "cell_type": "markdown",
   "id": "ahead-stone",
   "metadata": {},
   "source": [
    "Dari hasil diatas, kita dapat melihat bahwa kita telah berhasil melakukan imputasi string 'belum' menggantikan nilai null yang ada pada dataset. "
   ]
  },
  {
   "cell_type": "markdown",
   "id": "exact-bubble",
   "metadata": {},
   "source": [
    "Selanjutnya, Disini kita akan melihat data yang tidak sesuai (bukan dalam bentuk abjad) yang telah disebutkan sebelumnya pada kolom indeks 4"
   ]
  },
  {
   "cell_type": "code",
   "execution_count": 7,
   "id": "drawn-cameroon",
   "metadata": {},
   "outputs": [
    {
     "data": {
      "text/html": [
       "<div>\n",
       "<style scoped>\n",
       "    .dataframe tbody tr th:only-of-type {\n",
       "        vertical-align: middle;\n",
       "    }\n",
       "\n",
       "    .dataframe tbody tr th {\n",
       "        vertical-align: top;\n",
       "    }\n",
       "\n",
       "    .dataframe thead th {\n",
       "        text-align: right;\n",
       "    }\n",
       "</style>\n",
       "<table border=\"1\" class=\"dataframe\">\n",
       "  <thead>\n",
       "    <tr style=\"text-align: right;\">\n",
       "      <th></th>\n",
       "      <th>Jenis Beasiswa</th>\n",
       "      <th>Tingkat Pendidikan yang Dituju</th>\n",
       "      <th>Negara Tujuan Kuliah</th>\n",
       "      <th>Bidang Studi yang dipilih saat mendaftar</th>\n",
       "      <th>Mendaftar dengan menggunakan LoA sesuai ketentuan LPDP</th>\n",
       "      <th>Apakah anda dinyatakan Lulus Seleksi Substansi Akademik Pada gelombang I Tahun 2021?</th>\n",
       "      <th>Jumlah Jawaban Benar pada Tes Penalaran Verbal</th>\n",
       "      <th>Jumlah Jawaban Benar pada Tes Kuantitatif</th>\n",
       "      <th>Jumlah Jawaban Benar pada Tes Pemecahan Masalah</th>\n",
       "      <th>[optional] Kampus/universitas tujuan saat ini (pilihan 1)</th>\n",
       "    </tr>\n",
       "  </thead>\n",
       "  <tbody>\n",
       "    <tr>\n",
       "      <th>54</th>\n",
       "      <td>Afirmasi</td>\n",
       "      <td>S2</td>\n",
       "      <td>Dalam negeri</td>\n",
       "      <td>-</td>\n",
       "      <td>Ya, dengan Loa</td>\n",
       "      <td>Ya</td>\n",
       "      <td>13</td>\n",
       "      <td>9</td>\n",
       "      <td>6</td>\n",
       "      <td>Universitas Pendidikan Indonesia</td>\n",
       "    </tr>\n",
       "    <tr>\n",
       "      <th>123</th>\n",
       "      <td>Targeted</td>\n",
       "      <td>S3</td>\n",
       "      <td>Dalam negeri</td>\n",
       "      <td>-</td>\n",
       "      <td>Ya, dengan Loa</td>\n",
       "      <td>Ya</td>\n",
       "      <td>10</td>\n",
       "      <td>12</td>\n",
       "      <td>8</td>\n",
       "      <td>Universitas Airlangga</td>\n",
       "    </tr>\n",
       "    <tr>\n",
       "      <th>336</th>\n",
       "      <td>Afirmasi</td>\n",
       "      <td>S2</td>\n",
       "      <td>Dalam negeri</td>\n",
       "      <td>0</td>\n",
       "      <td>Ya, dengan Loa</td>\n",
       "      <td>Ya</td>\n",
       "      <td>6</td>\n",
       "      <td>15</td>\n",
       "      <td>3</td>\n",
       "      <td>UM</td>\n",
       "    </tr>\n",
       "    <tr>\n",
       "      <th>426</th>\n",
       "      <td>Reguler</td>\n",
       "      <td>S2</td>\n",
       "      <td>Dalam negeri</td>\n",
       "      <td>718</td>\n",
       "      <td>Tidak</td>\n",
       "      <td>Tidak</td>\n",
       "      <td>23</td>\n",
       "      <td>25</td>\n",
       "      <td>12</td>\n",
       "      <td>UGM</td>\n",
       "    </tr>\n",
       "  </tbody>\n",
       "</table>\n",
       "</div>"
      ],
      "text/plain": [
       "    Jenis Beasiswa Tingkat Pendidikan yang Dituju Negara Tujuan Kuliah  \\\n",
       "54        Afirmasi                             S2         Dalam negeri   \n",
       "123       Targeted                             S3         Dalam negeri   \n",
       "336       Afirmasi                             S2         Dalam negeri   \n",
       "426        Reguler                             S2         Dalam negeri   \n",
       "\n",
       "    Bidang Studi yang dipilih saat mendaftar  \\\n",
       "54                                         -   \n",
       "123                                        -   \n",
       "336                                        0   \n",
       "426                                      718   \n",
       "\n",
       "    Mendaftar dengan menggunakan LoA sesuai ketentuan LPDP  \\\n",
       "54                                      Ya, dengan Loa       \n",
       "123                                     Ya, dengan Loa       \n",
       "336                                     Ya, dengan Loa       \n",
       "426                                              Tidak       \n",
       "\n",
       "    Apakah anda dinyatakan Lulus Seleksi Substansi Akademik Pada gelombang I Tahun 2021?  \\\n",
       "54                                                  Ya                                     \n",
       "123                                                 Ya                                     \n",
       "336                                                 Ya                                     \n",
       "426                                              Tidak                                     \n",
       "\n",
       "     Jumlah Jawaban Benar pada Tes Penalaran Verbal  \\\n",
       "54                                               13   \n",
       "123                                              10   \n",
       "336                                               6   \n",
       "426                                              23   \n",
       "\n",
       "     Jumlah Jawaban Benar pada Tes Kuantitatif  \\\n",
       "54                                           9   \n",
       "123                                         12   \n",
       "336                                         15   \n",
       "426                                         25   \n",
       "\n",
       "     Jumlah Jawaban Benar pada Tes Pemecahan Masalah  \\\n",
       "54                                                 6   \n",
       "123                                                8   \n",
       "336                                                3   \n",
       "426                                               12   \n",
       "\n",
       "    [optional] Kampus/universitas tujuan saat ini (pilihan 1)  \n",
       "54                    Universitas Pendidikan Indonesia         \n",
       "123                              Universitas Airlangga         \n",
       "336                                                 UM         \n",
       "426                                                UGM         "
      ]
     },
     "execution_count": 7,
     "metadata": {},
     "output_type": "execute_result"
    }
   ],
   "source": [
    "df.loc[df['Bidang Studi yang dipilih saat mendaftar'].isin(['718', '0','-'])]"
   ]
  },
  {
   "cell_type": "code",
   "execution_count": 8,
   "id": "anonymous-biography",
   "metadata": {},
   "outputs": [
    {
     "data": {
      "text/plain": [
       "Jumlah Jawaban Benar pada Tes Penalaran Verbal     23\n",
       "Jumlah Jawaban Benar pada Tes Kuantitatif          25\n",
       "Jumlah Jawaban Benar pada Tes Pemecahan Masalah    12\n",
       "dtype: int64"
      ]
     },
     "execution_count": 8,
     "metadata": {},
     "output_type": "execute_result"
    }
   ],
   "source": [
    "df.iloc[:, [6,7,8]].max()"
   ]
  },
  {
   "cell_type": "markdown",
   "id": "incoming-export",
   "metadata": {},
   "source": [
    "Dari hasil diatas terutama untuk baris 426, kita dapat melihat bahwa jumlah tes untuk penalaran verbal, kuantitatif, dan pemecahan masalah memiliki nilai paling besar diantara keseluruhan data lainnya namun dikategorikan tidak lulus. Dari sini kita dapat melihat bahwa kemungkinan besar bahwa data ini adalah kesalahan input. Oleh karena itu, disini saya menyimpulkan bahwa pada kolom \"bidang studi yang dipilih saat mendaftar\" dengan nilai '718' adalah missing value. Oleh karena itu, kita akan menghapus baris yang memiliki missing value. Namun untuk nilai '0' dan '-' akan tetap saya biarkan karena ketika baris ini dihapus, maka akurasi model mengalami penurunan yang cukup signifikan."
   ]
  },
  {
   "cell_type": "markdown",
   "id": "rapid-mongolia",
   "metadata": {},
   "source": [
    "#### Melakukan Marking Data"
   ]
  },
  {
   "cell_type": "code",
   "execution_count": 9,
   "id": "stuck-identifier",
   "metadata": {},
   "outputs": [],
   "source": [
    "df['Bidang Studi yang dipilih saat mendaftar'] = df['Bidang Studi yang dipilih saat mendaftar'].replace(['718'], np.nan) "
   ]
  },
  {
   "cell_type": "markdown",
   "id": "forbidden-keyboard",
   "metadata": {},
   "source": [
    "#### Menghapus Missing value"
   ]
  },
  {
   "cell_type": "code",
   "execution_count": 10,
   "id": "pharmaceutical-mounting",
   "metadata": {},
   "outputs": [],
   "source": [
    "df = df.loc[df['Bidang Studi yang dipilih saat mendaftar'].isin([np.nan]) == False]\n",
    "df.reset_index(drop = True, inplace = True)"
   ]
  },
  {
   "cell_type": "markdown",
   "id": "ancient-smile",
   "metadata": {},
   "source": [
    "Selanjutnya, disini kita akan mengubah semua huruf yang ada pada fitur bidang studi dan optional kampus pilihan menjadi huruf kecil"
   ]
  },
  {
   "cell_type": "code",
   "execution_count": 11,
   "id": "clear-airplane",
   "metadata": {},
   "outputs": [],
   "source": [
    "df['Bidang Studi yang dipilih saat mendaftar'] = df['Bidang Studi yang dipilih saat mendaftar'].str.lower()\n",
    "df['[optional] Kampus/universitas tujuan saat ini (pilihan 1)'] = df['[optional] Kampus/universitas tujuan saat ini (pilihan 1)'].str.lower()"
   ]
  },
  {
   "cell_type": "markdown",
   "id": "american-marina",
   "metadata": {},
   "source": [
    "#### Mengidentifikasi Data Pencilan (Outlier) pada data Numerik\n",
    "\n",
    "Pada tahap ini kita akan mencoba mengidentifikasi nilai outlier pada data numerik yang ada pada fitur dengn nilai numerik, tepatnya pada fitur indeks 6,7, dan 8 dengan menggunakan IQR (Interquartile Range)"
   ]
  },
  {
   "cell_type": "markdown",
   "id": "outside-introduction",
   "metadata": {},
   "source": [
    "Pertama, sesuai dengan nama dari fiturnya, kita akan memasukkan tiap fitur kedalam variabel masing-masing dengan menentukan percentile 25 dan 75"
   ]
  },
  {
   "cell_type": "code",
   "execution_count": 12,
   "id": "indian-rotation",
   "metadata": {},
   "outputs": [],
   "source": [
    "q25_verbal, q75_verbal = percentile(df.iloc[:, [6]], 25), percentile(df.iloc[:, [6]], 75)\n",
    "q25_kuanti, q75_kuanti = percentile(df.iloc[:, [7]], 25), percentile(df.iloc[:, [7]], 75)\n",
    "q25_masalah, q75_masalah = percentile(df.iloc[:, [8]], 25), percentile(df.iloc[:, [8]], 75)\n"
   ]
  },
  {
   "cell_type": "markdown",
   "id": "third-allocation",
   "metadata": {},
   "source": [
    "Selanjutnya, disini kita akan menentukan nilai iqr yaitu percentile 75 - percentile 25"
   ]
  },
  {
   "cell_type": "code",
   "execution_count": 13,
   "id": "thirty-minute",
   "metadata": {},
   "outputs": [
    {
     "name": "stdout",
     "output_type": "stream",
     "text": [
      "Percentiles verbal: 25th=13.000, 75th=17.000, IQR=4.000\n",
      "Percentiles kuantitatif: 25th=12.000, 75th=18.000, IQR=6.000\n",
      "Percentiles pemecahan masalah: 25th=5.000, 75th=7.000, IQR=2.000\n"
     ]
    }
   ],
   "source": [
    "iqr_verb = q75_verbal - q25_verbal\n",
    "iqr_kuant = q75_kuanti - q25_kuanti\n",
    "iqr_masal = q75_masalah - q25_masalah\n",
    "\n",
    "print('Percentiles verbal: 25th=%.3f, 75th=%.3f, IQR=%.3f' % (q25_verbal, q75_verbal, iqr_verb))\n",
    "print('Percentiles kuantitatif: 25th=%.3f, 75th=%.3f, IQR=%.3f' % (q25_kuanti, q75_kuanti, iqr_kuant))\n",
    "print('Percentiles pemecahan masalah: 25th=%.3f, 75th=%.3f, IQR=%.3f' % (q25_masalah, q75_masalah, iqr_masal))\n"
   ]
  },
  {
   "cell_type": "markdown",
   "id": "rapid-intersection",
   "metadata": {},
   "source": [
    "Selanjutnya, disini kita akan menentukan cut_off dari outlier yaitu dengan mengalikannya dengan 1.5. Disini kita juga akan menentukan lower dan upper data dari outlier dengan mengurangi nilai cut_off dengan nilai percentile"
   ]
  },
  {
   "cell_type": "code",
   "execution_count": 14,
   "id": "level-singles",
   "metadata": {},
   "outputs": [],
   "source": [
    "cut_off_1 = iqr_verb * 1.5\n",
    "cut_off_2 = iqr_kuant * 1.5\n",
    "cut_off_3 = iqr_masal * 1.5\n",
    "\n",
    "lower1, upper1 =  q25_verbal - cut_off_1, q75_verbal + cut_off_1\n",
    "lower2, upper2 =  q25_kuanti - cut_off_2, q75_kuanti + cut_off_2\n",
    "lower3, upper3 =  q25_masalah - cut_off_3, q75_masalah + cut_off_3"
   ]
  },
  {
   "cell_type": "markdown",
   "id": "environmental-happening",
   "metadata": {},
   "source": [
    "Setelah perhitungan diatas, disini kita akan melakukan looping keseluruhan nilai yang ada pada ketiga fitur numerik ini dan mencari nilai outliernya berdasarkan lower dan upper yang sudah kita tetapkan"
   ]
  },
  {
   "cell_type": "code",
   "execution_count": 15,
   "id": "operating-trade",
   "metadata": {},
   "outputs": [
    {
     "name": "stdout",
     "output_type": "stream",
     "text": [
      "[6, 0]\n",
      "[0, 2]\n",
      "[12, 1, 12, 12, 0]\n"
     ]
    }
   ],
   "source": [
    "# identify outliers\n",
    "outliers1 = [x for x in df['Jumlah Jawaban Benar pada Tes Penalaran Verbal'] if x < lower1 or x > upper1]\n",
    "outliers2 = [x for x in df['Jumlah Jawaban Benar pada Tes Kuantitatif'] if x < lower2 or x > upper2]\n",
    "outliers3 = [x for x in df['Jumlah Jawaban Benar pada Tes Pemecahan Masalah'] if x < lower3 or x > upper3]\n",
    "\n",
    "print(outliers1)\n",
    "print(outliers2)\n",
    "print(outliers3)\n",
    "      \n"
   ]
  },
  {
   "cell_type": "markdown",
   "id": "reflected-individual",
   "metadata": {},
   "source": [
    "Disini, kita akan mencoba melihat box-plot dari ketiga fitur numerik diatas untuk mengidentifikasi nilai outliernya dengan lebih jelas "
   ]
  },
  {
   "cell_type": "code",
   "execution_count": 16,
   "id": "removable-statement",
   "metadata": {},
   "outputs": [
    {
     "name": "stderr",
     "output_type": "stream",
     "text": [
      "c:\\users\\yosia\\appdata\\local\\programs\\python\\python39\\lib\\site-packages\\seaborn\\_decorators.py:36: FutureWarning: Pass the following variable as a keyword arg: x. From version 0.12, the only valid positional argument will be `data`, and passing other arguments without an explicit keyword will result in an error or misinterpretation.\n",
      "  warnings.warn(\n",
      "c:\\users\\yosia\\appdata\\local\\programs\\python\\python39\\lib\\site-packages\\seaborn\\_decorators.py:36: FutureWarning: Pass the following variable as a keyword arg: x. From version 0.12, the only valid positional argument will be `data`, and passing other arguments without an explicit keyword will result in an error or misinterpretation.\n",
      "  warnings.warn(\n",
      "c:\\users\\yosia\\appdata\\local\\programs\\python\\python39\\lib\\site-packages\\seaborn\\_decorators.py:36: FutureWarning: Pass the following variable as a keyword arg: x. From version 0.12, the only valid positional argument will be `data`, and passing other arguments without an explicit keyword will result in an error or misinterpretation.\n",
      "  warnings.warn(\n"
     ]
    },
    {
     "data": {
      "text/plain": [
       "<AxesSubplot:xlabel='Jumlah Jawaban Benar pada Tes Pemecahan Masalah'>"
      ]
     },
     "execution_count": 16,
     "metadata": {},
     "output_type": "execute_result"
    },
    {
     "data": {
      "image/png": "[encoded data removed]",
      "text/plain": [
       "<Figure size 432x288 with 3 Axes>"
      ]
     },
     "metadata": {
      "needs_background": "light"
     },
     "output_type": "display_data"
    }
   ],
   "source": [
    "f, axes = plt.subplots(3, 1)\n",
    "\n",
    "sns.set(rc={'figure.figsize':(10,12)})\n",
    "sns.boxplot(df['Jumlah Jawaban Benar pada Tes Penalaran Verbal'], color='red', ax=axes[0])\n",
    "sns.boxplot(df['Jumlah Jawaban Benar pada Tes Kuantitatif'], color='yellow', ax = axes[1])\n",
    "sns.boxplot(df['Jumlah Jawaban Benar pada Tes Pemecahan Masalah'], color='blue', ax = axes[2])"
   ]
  },
  {
   "cell_type": "markdown",
   "id": "stock-analyst",
   "metadata": {},
   "source": [
    "Dari hasil visualisasi diatas, kita dapat melihat dengan jelas nilai outlier yang berada pada ketiga fitur numerik diatas. Maka dari itu, sekarang kita akan menghapus baris yang memiliki nilai outlier tersebut"
   ]
  },
  {
   "cell_type": "markdown",
   "id": "fuzzy-stake",
   "metadata": {},
   "source": [
    "#### Melakukan Penghapusan nilai Outlier"
   ]
  },
  {
   "cell_type": "code",
   "execution_count": 17,
   "id": "wooden-brake",
   "metadata": {},
   "outputs": [],
   "source": [
    "df = df.loc[df['Jumlah Jawaban Benar pada Tes Pemecahan Masalah'].isin([0]) == False]\n",
    "df = df.loc[df['Jumlah Jawaban Benar pada Tes Penalaran Verbal'].isin([6]) == False]\n",
    "df = df.loc[df['Jumlah Jawaban Benar pada Tes Kuantitatif'].isin([2]) == False]\n",
    "df.reset_index(drop = True, inplace = True)"
   ]
  },
  {
   "cell_type": "code",
   "execution_count": 18,
   "id": "transsexual-connecticut",
   "metadata": {},
   "outputs": [
    {
     "data": {
      "text/html": [
       "<div>\n",
       "<style scoped>\n",
       "    .dataframe tbody tr th:only-of-type {\n",
       "        vertical-align: middle;\n",
       "    }\n",
       "\n",
       "    .dataframe tbody tr th {\n",
       "        vertical-align: top;\n",
       "    }\n",
       "\n",
       "    .dataframe thead th {\n",
       "        text-align: right;\n",
       "    }\n",
       "</style>\n",
       "<table border=\"1\" class=\"dataframe\">\n",
       "  <thead>\n",
       "    <tr style=\"text-align: right;\">\n",
       "      <th></th>\n",
       "      <th>Jenis Beasiswa</th>\n",
       "      <th>Tingkat Pendidikan yang Dituju</th>\n",
       "      <th>Negara Tujuan Kuliah</th>\n",
       "      <th>Bidang Studi yang dipilih saat mendaftar</th>\n",
       "      <th>Mendaftar dengan menggunakan LoA sesuai ketentuan LPDP</th>\n",
       "      <th>Apakah anda dinyatakan Lulus Seleksi Substansi Akademik Pada gelombang I Tahun 2021?</th>\n",
       "      <th>Jumlah Jawaban Benar pada Tes Penalaran Verbal</th>\n",
       "      <th>Jumlah Jawaban Benar pada Tes Kuantitatif</th>\n",
       "      <th>Jumlah Jawaban Benar pada Tes Pemecahan Masalah</th>\n",
       "      <th>[optional] Kampus/universitas tujuan saat ini (pilihan 1)</th>\n",
       "    </tr>\n",
       "  </thead>\n",
       "  <tbody>\n",
       "    <tr>\n",
       "      <th>69</th>\n",
       "      <td>Reguler</td>\n",
       "      <td>S2</td>\n",
       "      <td>Luar Negeri</td>\n",
       "      <td>dev</td>\n",
       "      <td>Tidak</td>\n",
       "      <td>Ya</td>\n",
       "      <td>16</td>\n",
       "      <td>18</td>\n",
       "      <td>12</td>\n",
       "      <td>mit</td>\n",
       "    </tr>\n",
       "    <tr>\n",
       "      <th>115</th>\n",
       "      <td>Reguler</td>\n",
       "      <td>S2</td>\n",
       "      <td>Luar Negeri</td>\n",
       "      <td>arc</td>\n",
       "      <td>Ya, dengan Loa</td>\n",
       "      <td>Tidak</td>\n",
       "      <td>16</td>\n",
       "      <td>11</td>\n",
       "      <td>1</td>\n",
       "      <td>university of melbourne</td>\n",
       "    </tr>\n",
       "    <tr>\n",
       "      <th>192</th>\n",
       "      <td>Reguler</td>\n",
       "      <td>S2</td>\n",
       "      <td>Luar Negeri</td>\n",
       "      <td>com</td>\n",
       "      <td>Tidak</td>\n",
       "      <td>Tidak</td>\n",
       "      <td>13</td>\n",
       "      <td>7</td>\n",
       "      <td>12</td>\n",
       "      <td>lse</td>\n",
       "    </tr>\n",
       "    <tr>\n",
       "      <th>344</th>\n",
       "      <td>Afirmasi</td>\n",
       "      <td>S2</td>\n",
       "      <td>Dalam negeri</td>\n",
       "      <td>trp</td>\n",
       "      <td>Tidak</td>\n",
       "      <td>Ya</td>\n",
       "      <td>22</td>\n",
       "      <td>24</td>\n",
       "      <td>12</td>\n",
       "      <td>ugm</td>\n",
       "    </tr>\n",
       "  </tbody>\n",
       "</table>\n",
       "</div>"
      ],
      "text/plain": [
       "    Jenis Beasiswa Tingkat Pendidikan yang Dituju Negara Tujuan Kuliah  \\\n",
       "69         Reguler                             S2          Luar Negeri   \n",
       "115        Reguler                             S2          Luar Negeri   \n",
       "192        Reguler                             S2          Luar Negeri   \n",
       "344       Afirmasi                             S2         Dalam negeri   \n",
       "\n",
       "    Bidang Studi yang dipilih saat mendaftar  \\\n",
       "69                                       dev   \n",
       "115                                      arc   \n",
       "192                                      com   \n",
       "344                                      trp   \n",
       "\n",
       "    Mendaftar dengan menggunakan LoA sesuai ketentuan LPDP  \\\n",
       "69                                               Tidak       \n",
       "115                                     Ya, dengan Loa       \n",
       "192                                              Tidak       \n",
       "344                                              Tidak       \n",
       "\n",
       "    Apakah anda dinyatakan Lulus Seleksi Substansi Akademik Pada gelombang I Tahun 2021?  \\\n",
       "69                                                  Ya                                     \n",
       "115                                              Tidak                                     \n",
       "192                                              Tidak                                     \n",
       "344                                                 Ya                                     \n",
       "\n",
       "     Jumlah Jawaban Benar pada Tes Penalaran Verbal  \\\n",
       "69                                               16   \n",
       "115                                              16   \n",
       "192                                              13   \n",
       "344                                              22   \n",
       "\n",
       "     Jumlah Jawaban Benar pada Tes Kuantitatif  \\\n",
       "69                                          18   \n",
       "115                                         11   \n",
       "192                                          7   \n",
       "344                                         24   \n",
       "\n",
       "     Jumlah Jawaban Benar pada Tes Pemecahan Masalah  \\\n",
       "69                                                12   \n",
       "115                                                1   \n",
       "192                                               12   \n",
       "344                                               12   \n",
       "\n",
       "    [optional] Kampus/universitas tujuan saat ini (pilihan 1)  \n",
       "69                                                 mit         \n",
       "115                            university of melbourne         \n",
       "192                                                lse         \n",
       "344                                                ugm         "
      ]
     },
     "execution_count": 18,
     "metadata": {},
     "output_type": "execute_result"
    }
   ],
   "source": [
    "df.loc[df['Jumlah Jawaban Benar pada Tes Pemecahan Masalah'].isin([0, 1, 12])]"
   ]
  },
  {
   "cell_type": "code",
   "execution_count": 19,
   "id": "opened-aspect",
   "metadata": {},
   "outputs": [
    {
     "data": {
      "text/html": [
       "<div>\n",
       "<style scoped>\n",
       "    .dataframe tbody tr th:only-of-type {\n",
       "        vertical-align: middle;\n",
       "    }\n",
       "\n",
       "    .dataframe tbody tr th {\n",
       "        vertical-align: top;\n",
       "    }\n",
       "\n",
       "    .dataframe thead th {\n",
       "        text-align: right;\n",
       "    }\n",
       "</style>\n",
       "<table border=\"1\" class=\"dataframe\">\n",
       "  <thead>\n",
       "    <tr style=\"text-align: right;\">\n",
       "      <th></th>\n",
       "      <th>Jenis Beasiswa</th>\n",
       "      <th>Tingkat Pendidikan yang Dituju</th>\n",
       "      <th>Negara Tujuan Kuliah</th>\n",
       "      <th>Bidang Studi yang dipilih saat mendaftar</th>\n",
       "      <th>Mendaftar dengan menggunakan LoA sesuai ketentuan LPDP</th>\n",
       "      <th>Apakah anda dinyatakan Lulus Seleksi Substansi Akademik Pada gelombang I Tahun 2021?</th>\n",
       "      <th>Jumlah Jawaban Benar pada Tes Penalaran Verbal</th>\n",
       "      <th>Jumlah Jawaban Benar pada Tes Kuantitatif</th>\n",
       "      <th>Jumlah Jawaban Benar pada Tes Pemecahan Masalah</th>\n",
       "      <th>[optional] Kampus/universitas tujuan saat ini (pilihan 1)</th>\n",
       "    </tr>\n",
       "  </thead>\n",
       "  <tbody>\n",
       "  </tbody>\n",
       "</table>\n",
       "</div>"
      ],
      "text/plain": [
       "Empty DataFrame\n",
       "Columns: [Jenis Beasiswa, Tingkat Pendidikan yang Dituju, Negara Tujuan Kuliah, Bidang Studi yang dipilih saat mendaftar, Mendaftar dengan menggunakan LoA sesuai ketentuan LPDP, Apakah anda dinyatakan Lulus Seleksi Substansi Akademik Pada gelombang I Tahun 2021?, Jumlah Jawaban Benar pada Tes Penalaran Verbal, Jumlah Jawaban Benar pada Tes Kuantitatif, Jumlah Jawaban Benar pada Tes Pemecahan Masalah, [optional] Kampus/universitas tujuan saat ini (pilihan 1)]\n",
       "Index: []"
      ]
     },
     "execution_count": 19,
     "metadata": {},
     "output_type": "execute_result"
    }
   ],
   "source": [
    "df.loc[df['Jumlah Jawaban Benar pada Tes Kuantitatif'].isin([2])]"
   ]
  },
  {
   "cell_type": "code",
   "execution_count": 20,
   "id": "danish-component",
   "metadata": {},
   "outputs": [
    {
     "data": {
      "text/html": [
       "<div>\n",
       "<style scoped>\n",
       "    .dataframe tbody tr th:only-of-type {\n",
       "        vertical-align: middle;\n",
       "    }\n",
       "\n",
       "    .dataframe tbody tr th {\n",
       "        vertical-align: top;\n",
       "    }\n",
       "\n",
       "    .dataframe thead th {\n",
       "        text-align: right;\n",
       "    }\n",
       "</style>\n",
       "<table border=\"1\" class=\"dataframe\">\n",
       "  <thead>\n",
       "    <tr style=\"text-align: right;\">\n",
       "      <th></th>\n",
       "      <th>Jenis Beasiswa</th>\n",
       "      <th>Tingkat Pendidikan yang Dituju</th>\n",
       "      <th>Negara Tujuan Kuliah</th>\n",
       "      <th>Bidang Studi yang dipilih saat mendaftar</th>\n",
       "      <th>Mendaftar dengan menggunakan LoA sesuai ketentuan LPDP</th>\n",
       "      <th>Apakah anda dinyatakan Lulus Seleksi Substansi Akademik Pada gelombang I Tahun 2021?</th>\n",
       "      <th>Jumlah Jawaban Benar pada Tes Penalaran Verbal</th>\n",
       "      <th>Jumlah Jawaban Benar pada Tes Kuantitatif</th>\n",
       "      <th>Jumlah Jawaban Benar pada Tes Pemecahan Masalah</th>\n",
       "      <th>[optional] Kampus/universitas tujuan saat ini (pilihan 1)</th>\n",
       "    </tr>\n",
       "  </thead>\n",
       "  <tbody>\n",
       "  </tbody>\n",
       "</table>\n",
       "</div>"
      ],
      "text/plain": [
       "Empty DataFrame\n",
       "Columns: [Jenis Beasiswa, Tingkat Pendidikan yang Dituju, Negara Tujuan Kuliah, Bidang Studi yang dipilih saat mendaftar, Mendaftar dengan menggunakan LoA sesuai ketentuan LPDP, Apakah anda dinyatakan Lulus Seleksi Substansi Akademik Pada gelombang I Tahun 2021?, Jumlah Jawaban Benar pada Tes Penalaran Verbal, Jumlah Jawaban Benar pada Tes Kuantitatif, Jumlah Jawaban Benar pada Tes Pemecahan Masalah, [optional] Kampus/universitas tujuan saat ini (pilihan 1)]\n",
       "Index: []"
      ]
     },
     "execution_count": 20,
     "metadata": {},
     "output_type": "execute_result"
    }
   ],
   "source": [
    "df.loc[df['Jumlah Jawaban Benar pada Tes Penalaran Verbal'].isin([6])]"
   ]
  },
  {
   "cell_type": "markdown",
   "id": "clean-delicious",
   "metadata": {},
   "source": [
    "Dari hasil diatas, kita dapat melihat bahwa kita telah berhasil melakukan penghapusan outlier pada fitur numerik yang ada pada dataset kita. Namun dapat terlihat pada fitur tes pemecahan masalah, saya tidak melakukan penghapusan untuk nilai 12 dan 1 karena menurut saya data tersebut sangat membantu model dalam melakukan prediksi. Di sisi lain, dengan tidak menghapus 12 dan 1, akurasi model kita dapat meningkat cukup signifikan "
   ]
  },
  {
   "cell_type": "markdown",
   "id": "supposed-atlantic",
   "metadata": {},
   "source": [
    "## Mempersiapkan Model"
   ]
  },
  {
   "cell_type": "markdown",
   "id": "prostate-assessment",
   "metadata": {},
   "source": [
    "#### Menentukan Input dan Output\n",
    "\n",
    "Disini kita akan menggunakan fitur pada indeks 5 (dinyatakan lulus atau tidak) sebagai output dan sisanya sebagai input"
   ]
  },
  {
   "cell_type": "code",
   "execution_count": 21,
   "id": "velvet-motion",
   "metadata": {},
   "outputs": [
    {
     "data": {
      "text/plain": [
       "Index(['Jenis Beasiswa', 'Tingkat Pendidikan yang Dituju',\n",
       "       'Negara Tujuan Kuliah', 'Bidang Studi yang dipilih saat mendaftar',\n",
       "       'Mendaftar dengan menggunakan LoA sesuai ketentuan LPDP',\n",
       "       'Jumlah Jawaban Benar pada Tes Penalaran Verbal',\n",
       "       'Jumlah Jawaban Benar pada Tes Kuantitatif',\n",
       "       'Jumlah Jawaban Benar pada Tes Pemecahan Masalah',\n",
       "       '[optional] Kampus/universitas tujuan saat ini (pilihan 1)'],\n",
       "      dtype='object')"
      ]
     },
     "execution_count": 21,
     "metadata": {},
     "output_type": "execute_result"
    }
   ],
   "source": [
    "X, y = df.iloc[:, [0,1,2,3,4,6,7,8,9]] ,  df.iloc[:, 5]\n",
    "X.columns"
   ]
  },
  {
   "cell_type": "markdown",
   "id": "brilliant-spice",
   "metadata": {},
   "source": [
    "#### Mendefinisikan fitur yang akan ditransformasi"
   ]
  },
  {
   "cell_type": "markdown",
   "id": "confirmed-revision",
   "metadata": {},
   "source": [
    "- fitur input pada indeks 0, 1 akan kita encode menggunakan OneHotEncoder()\n",
    "- fitur input pada indeks 2, 3, 4, 8 akan kita encode menggunakan OrdinalEncoder()\n",
    "- fitur numerik akan kita ubah dengan menggunakan PolynomialFeatures()\n",
    "- fitur output akan kita encode menggunakan LabelEncoder()"
   ]
  },
  {
   "cell_type": "code",
   "execution_count": 22,
   "id": "rapid-cargo",
   "metadata": {},
   "outputs": [],
   "source": [
    "categorial_or_features= X.iloc[:, [2,3,4,8]].columns\n",
    "categorial_oh_features = X.iloc[:, [0,1]].columns\n",
    "numerical_features = X.iloc[:, [5,6,7]].columns\n",
    "y = LabelEncoder().fit_transform(y.astype('str'))"
   ]
  },
  {
   "cell_type": "markdown",
   "id": "spoken-fault",
   "metadata": {},
   "source": [
    "Selanjutnya, disini kita akan memasukkan variabel dari fitur yang telah kita definisikan sebelumnya kedalam sebuah list berserta dengan metode transformasi yang sudah ditetapkan"
   ]
  },
  {
   "cell_type": "code",
   "execution_count": 23,
   "id": "forced-transcription",
   "metadata": {},
   "outputs": [],
   "source": [
    "trans = [  \n",
    "            ('oh', OneHotEncoder(), categorial_oh_features),\n",
    "            ('or', OrdinalEncoder(), categorial_or_features),\n",
    "            ('pol', PolynomialFeatures(degree = 7), numerical_features)\n",
    "        \n",
    "         ]\n"
   ]
  },
  {
   "cell_type": "markdown",
   "id": "disciplinary-shannon",
   "metadata": {},
   "source": [
    "Disini, kita akan menggunakan ColumnTransformer untuk merealisasikan transformasi fitur yang sudah kita persiapkan sebelumnya "
   ]
  },
  {
   "cell_type": "code",
   "execution_count": 24,
   "id": "prepared-mailman",
   "metadata": {},
   "outputs": [
    {
     "name": "stdout",
     "output_type": "stream",
     "text": [
      "(427, 9) (427,)\n",
      "(427, 129) (427,)\n"
     ]
    }
   ],
   "source": [
    "transformer = ColumnTransformer(transformers = trans, remainder = 'passthrough')\n",
    "print(X.shape, y.shape)\n",
    "X = transformer.fit_transform(X)\n",
    "print(X.shape, y.shape)\n"
   ]
  },
  {
   "cell_type": "markdown",
   "id": "pointed-grain",
   "metadata": {},
   "source": [
    "Dari hasil diatas, kita dapat melihat bahwa kita telah berhasil melakukan transformasi fitur dengan melakukan encoder baik untuk input(X) maupun output(y). Kita dapat melihat bahwa shape awal; (427, 9), (427,) berubah menjadi (427, 129), (427,)."
   ]
  },
  {
   "cell_type": "markdown",
   "id": "floating-former",
   "metadata": {},
   "source": [
    "### Menentukan Model untuk melakukan prediksi"
   ]
  },
  {
   "cell_type": "markdown",
   "id": "expressed-bedroom",
   "metadata": {},
   "source": [
    "Disini kita akan menggunakan model DecisionTreeClassifier() untuk melakukan prediksi apakah seorang murid dinyatakan lulus atau tidak berdasarkan input dan output yang telah kita tetapkan sebelumnya. Disini kita juga menggunakan max_depth = 2 dan juga random_state = .0"
   ]
  },
  {
   "cell_type": "code",
   "execution_count": 25,
   "id": "proof-assumption",
   "metadata": {},
   "outputs": [],
   "source": [
    "model = DecisionTreeClassifier(random_state = 0, \n",
    "                               max_depth = 2,\n",
    "                              ) "
   ]
  },
  {
   "cell_type": "markdown",
   "id": "perfect-retrieval",
   "metadata": {},
   "source": [
    "Selanjutnya, disini kita akan mengunakan RepeatedStratifiedKFold dengan parameter yang telah ditentukan dibawah ini untuk mencari akurasi dari model yang telah kita buat."
   ]
  },
  {
   "cell_type": "code",
   "execution_count": 26,
   "id": "documented-cleaners",
   "metadata": {},
   "outputs": [
    {
     "name": "stdout",
     "output_type": "stream",
     "text": [
      "Accuracy: 0.912 (0.037)\n"
     ]
    }
   ],
   "source": [
    "# Menggunakan repeatedstratifiedKFold()\n",
    "cv = RepeatedStratifiedKFold(n_splits = 10, n_repeats = 3, random_state= 1)\n",
    "\n",
    "\n",
    "# Mencari nilai rata-rata akurasi dengan cross_val_score\n",
    "n_scores = cross_val_score(model, X, y, scoring ='accuracy', cv=cv, n_jobs = -1)\n",
    "print('Accuracy: %.3f (%.3f)' % (mean(n_scores), std(n_scores)))\n"
   ]
  },
  {
   "cell_type": "markdown",
   "id": "tropical-implement",
   "metadata": {},
   "source": [
    "Dari hasil diatas, kita dapat melihat bahwa akurasi model kita mencapai 91.2 % dengan standar deviasi 0.037. Disini kita dapat melihat bahwa model kita sudah mendapat akurasi yang cukup tinggi"
   ]
  },
  {
   "cell_type": "markdown",
   "id": "varied-theater",
   "metadata": {},
   "source": [
    "### Melakukan Prediksi terhadap X"
   ]
  },
  {
   "cell_type": "code",
   "execution_count": 27,
   "id": "emerging-adoption",
   "metadata": {},
   "outputs": [
    {
     "data": {
      "text/plain": [
       "array([1, 1, 1, 0, 1, 1, 1, 1, 1, 1, 1])"
      ]
     },
     "execution_count": 27,
     "metadata": {},
     "output_type": "execute_result"
    }
   ],
   "source": [
    "# # Melakukan fitting model terhadap X dan y \n",
    "model.fit(X,y)\n",
    "# Melkaukan prediksi terhadap X\n",
    "yhat = model.predict(X)\n",
    "yhat[:11]"
   ]
  },
  {
   "cell_type": "markdown",
   "id": "seasonal-somalia",
   "metadata": {},
   "source": [
    "10 data awal untuk y"
   ]
  },
  {
   "cell_type": "code",
   "execution_count": 28,
   "id": "polished-meaning",
   "metadata": {},
   "outputs": [
    {
     "data": {
      "text/plain": [
       "array([1, 1, 1, 0, 1, 1, 1, 1, 1, 1, 1])"
      ]
     },
     "execution_count": 28,
     "metadata": {},
     "output_type": "execute_result"
    }
   ],
   "source": [
    "y[:11]"
   ]
  },
  {
   "cell_type": "markdown",
   "id": "speaking-absorption",
   "metadata": {},
   "source": [
    "Dari hasil diatas, kita dapat melihat bahwa untuk 10 baris pertama, model kita dapat memprediksi hasil yang ada pada kolom output sebelumnya(y) dengan benar "
   ]
  }
 ],
 "metadata": {
  "kernelspec": {
   "display_name": "Python 3",
   "language": "python",
   "name": "python3"
  },
  "language_info": {
   "codemirror_mode": {
    "name": "ipython",
    "version": 3
   },
   "file_extension": ".py",
   "mimetype": "text/x-python",
   "name": "python",
   "nbconvert_exporter": "python",
   "pygments_lexer": "ipython3",
   "version": "3.9.1"
  }
 },
 "nbformat": 4,
 "nbformat_minor": 5
}
