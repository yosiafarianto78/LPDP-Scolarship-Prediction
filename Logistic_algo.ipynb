{
 "cells": [
  {
   "cell_type": "markdown",
   "id": "noticed-coverage",
   "metadata": {},
   "source": [
    "### Library-library yang digunakan "
   ]
  },
  {
   "cell_type": "code",
   "execution_count": 26,
   "id": "hindu-reservoir",
   "metadata": {
    "scrolled": true
   },
   "outputs": [],
   "source": [
    "import pandas as pd \n",
    "import numpy as np \n",
    "from numpy import mean, std\n",
    "from sklearn.compose import ColumnTransformer\n",
    "from sklearn.linear_model import LogisticRegression\n",
    "from sklearn.preprocessing import LabelEncoder, OrdinalEncoder, OneHotEncoder \n",
    "from sklearn.model_selection import cross_val_score, RepeatedStratifiedKFold\n",
    "from sklearn.preprocessing import StandardScaler, PowerTransformer, QuantileTransformer\n",
    "from sklearn.pipeline import Pipeline \n",
    "import matplotlib.pyplot as plt\n",
    "from sklearn.feature_selection import SelectKBest, chi2"
   ]
  },
  {
   "cell_type": "markdown",
   "id": "republican-allergy",
   "metadata": {},
   "source": [
    "Berikut adalah tampilan 10 baris data yang ada di dalam dataset"
   ]
  },
  {
   "cell_type": "code",
   "execution_count": 27,
   "id": "ranking-dominant",
   "metadata": {},
   "outputs": [
    {
     "data": {
      "text/html": [
       "<div>\n",
       "<style scoped>\n",
       "    .dataframe tbody tr th:only-of-type {\n",
       "        vertical-align: middle;\n",
       "    }\n",
       "\n",
       "    .dataframe tbody tr th {\n",
       "        vertical-align: top;\n",
       "    }\n",
       "\n",
       "    .dataframe thead th {\n",
       "        text-align: right;\n",
       "    }\n",
       "</style>\n",
       "<table border=\"1\" class=\"dataframe\">\n",
       "  <thead>\n",
       "    <tr style=\"text-align: right;\">\n",
       "      <th></th>\n",
       "      <th>Jenis Beasiswa</th>\n",
       "      <th>Tingkat Pendidikan yang Dituju</th>\n",
       "      <th>Negara Tujuan Kuliah</th>\n",
       "      <th>Bidang Studi yang dipilih saat mendaftar</th>\n",
       "      <th>Mendaftar dengan menggunakan LoA sesuai ketentuan LPDP</th>\n",
       "      <th>Apakah anda dinyatakan Lulus Seleksi Substansi Akademik Pada gelombang I Tahun 2021?</th>\n",
       "      <th>Jumlah Jawaban Benar pada Tes Penalaran Verbal</th>\n",
       "      <th>Jumlah Jawaban Benar pada Tes Kuantitatif</th>\n",
       "      <th>Jumlah Jawaban Benar pada Tes Pemecahan Masalah</th>\n",
       "      <th>[optional] Kampus/universitas tujuan saat ini (pilihan 1)</th>\n",
       "    </tr>\n",
       "  </thead>\n",
       "  <tbody>\n",
       "    <tr>\n",
       "      <th>0</th>\n",
       "      <td>Targeted</td>\n",
       "      <td>S2</td>\n",
       "      <td>Dalam negeri</td>\n",
       "      <td>TRP</td>\n",
       "      <td>Tidak</td>\n",
       "      <td>Ya</td>\n",
       "      <td>10</td>\n",
       "      <td>12</td>\n",
       "      <td>6</td>\n",
       "      <td>Universitas Indonesia</td>\n",
       "    </tr>\n",
       "    <tr>\n",
       "      <th>1</th>\n",
       "      <td>Reguler</td>\n",
       "      <td>S2</td>\n",
       "      <td>Luar Negeri</td>\n",
       "      <td>ENE</td>\n",
       "      <td>Ya, dengan Loa</td>\n",
       "      <td>Ya</td>\n",
       "      <td>17</td>\n",
       "      <td>22</td>\n",
       "      <td>8</td>\n",
       "      <td>UCL</td>\n",
       "    </tr>\n",
       "    <tr>\n",
       "      <th>2</th>\n",
       "      <td>Targeted</td>\n",
       "      <td>S2</td>\n",
       "      <td>Luar Negeri</td>\n",
       "      <td>ELE</td>\n",
       "      <td>Ya, dengan Loa</td>\n",
       "      <td>Ya</td>\n",
       "      <td>16</td>\n",
       "      <td>18</td>\n",
       "      <td>7</td>\n",
       "      <td>KTH Sweden</td>\n",
       "    </tr>\n",
       "    <tr>\n",
       "      <th>3</th>\n",
       "      <td>Reguler</td>\n",
       "      <td>S2</td>\n",
       "      <td>Dalam negeri</td>\n",
       "      <td>LIN</td>\n",
       "      <td>Tidak</td>\n",
       "      <td>Tidak</td>\n",
       "      <td>15</td>\n",
       "      <td>12</td>\n",
       "      <td>4</td>\n",
       "      <td>UGM</td>\n",
       "    </tr>\n",
       "    <tr>\n",
       "      <th>4</th>\n",
       "      <td>Afirmasi</td>\n",
       "      <td>S2</td>\n",
       "      <td>Luar Negeri</td>\n",
       "      <td>LIN</td>\n",
       "      <td>Tidak</td>\n",
       "      <td>Ya</td>\n",
       "      <td>16</td>\n",
       "      <td>9</td>\n",
       "      <td>7</td>\n",
       "      <td>University of Birmingham</td>\n",
       "    </tr>\n",
       "    <tr>\n",
       "      <th>5</th>\n",
       "      <td>Targeted</td>\n",
       "      <td>S2</td>\n",
       "      <td>Luar Negeri</td>\n",
       "      <td>Dev</td>\n",
       "      <td>Ya, dengan Loa</td>\n",
       "      <td>Ya</td>\n",
       "      <td>17</td>\n",
       "      <td>11</td>\n",
       "      <td>4</td>\n",
       "      <td>KU leuven</td>\n",
       "    </tr>\n",
       "    <tr>\n",
       "      <th>6</th>\n",
       "      <td>Afirmasi</td>\n",
       "      <td>S2</td>\n",
       "      <td>Dalam negeri</td>\n",
       "      <td>HUM</td>\n",
       "      <td>Tidak</td>\n",
       "      <td>Ya</td>\n",
       "      <td>17</td>\n",
       "      <td>16</td>\n",
       "      <td>4</td>\n",
       "      <td>Universitas Gadjah Mada</td>\n",
       "    </tr>\n",
       "    <tr>\n",
       "      <th>7</th>\n",
       "      <td>Reguler</td>\n",
       "      <td>S2</td>\n",
       "      <td>Dalam negeri</td>\n",
       "      <td>TRP</td>\n",
       "      <td>Tidak</td>\n",
       "      <td>Ya</td>\n",
       "      <td>14</td>\n",
       "      <td>19</td>\n",
       "      <td>4</td>\n",
       "      <td>NaN</td>\n",
       "    </tr>\n",
       "    <tr>\n",
       "      <th>8</th>\n",
       "      <td>Reguler</td>\n",
       "      <td>S2</td>\n",
       "      <td>Luar Negeri</td>\n",
       "      <td>AFR</td>\n",
       "      <td>Ya, dengan Loa</td>\n",
       "      <td>Ya</td>\n",
       "      <td>13</td>\n",
       "      <td>16</td>\n",
       "      <td>7</td>\n",
       "      <td>Uni of Reading</td>\n",
       "    </tr>\n",
       "    <tr>\n",
       "      <th>9</th>\n",
       "      <td>Targeted</td>\n",
       "      <td>S3</td>\n",
       "      <td>Luar Negeri</td>\n",
       "      <td>BUS</td>\n",
       "      <td>Tidak</td>\n",
       "      <td>Ya</td>\n",
       "      <td>16</td>\n",
       "      <td>18</td>\n",
       "      <td>8</td>\n",
       "      <td>University of Auckland</td>\n",
       "    </tr>\n",
       "  </tbody>\n",
       "</table>\n",
       "</div>"
      ],
      "text/plain": [
       "  Jenis Beasiswa Tingkat Pendidikan yang Dituju Negara Tujuan Kuliah  \\\n",
       "0       Targeted                             S2         Dalam negeri   \n",
       "1        Reguler                             S2          Luar Negeri   \n",
       "2       Targeted                             S2          Luar Negeri   \n",
       "3        Reguler                             S2         Dalam negeri   \n",
       "4       Afirmasi                             S2          Luar Negeri   \n",
       "5       Targeted                             S2          Luar Negeri   \n",
       "6       Afirmasi                             S2         Dalam negeri   \n",
       "7        Reguler                             S2         Dalam negeri   \n",
       "8        Reguler                             S2          Luar Negeri   \n",
       "9       Targeted                             S3          Luar Negeri   \n",
       "\n",
       "  Bidang Studi yang dipilih saat mendaftar  \\\n",
       "0                                      TRP   \n",
       "1                                      ENE   \n",
       "2                                      ELE   \n",
       "3                                      LIN   \n",
       "4                                      LIN   \n",
       "5                                      Dev   \n",
       "6                                      HUM   \n",
       "7                                      TRP   \n",
       "8                                      AFR   \n",
       "9                                      BUS   \n",
       "\n",
       "  Mendaftar dengan menggunakan LoA sesuai ketentuan LPDP  \\\n",
       "0                                              Tidak       \n",
       "1                                     Ya, dengan Loa       \n",
       "2                                     Ya, dengan Loa       \n",
       "3                                              Tidak       \n",
       "4                                              Tidak       \n",
       "5                                     Ya, dengan Loa       \n",
       "6                                              Tidak       \n",
       "7                                              Tidak       \n",
       "8                                     Ya, dengan Loa       \n",
       "9                                              Tidak       \n",
       "\n",
       "  Apakah anda dinyatakan Lulus Seleksi Substansi Akademik Pada gelombang I Tahun 2021?  \\\n",
       "0                                                 Ya                                     \n",
       "1                                                 Ya                                     \n",
       "2                                                 Ya                                     \n",
       "3                                              Tidak                                     \n",
       "4                                                 Ya                                     \n",
       "5                                                 Ya                                     \n",
       "6                                                 Ya                                     \n",
       "7                                                 Ya                                     \n",
       "8                                                 Ya                                     \n",
       "9                                                 Ya                                     \n",
       "\n",
       "   Jumlah Jawaban Benar pada Tes Penalaran Verbal  \\\n",
       "0                                              10   \n",
       "1                                              17   \n",
       "2                                              16   \n",
       "3                                              15   \n",
       "4                                              16   \n",
       "5                                              17   \n",
       "6                                              17   \n",
       "7                                              14   \n",
       "8                                              13   \n",
       "9                                              16   \n",
       "\n",
       "   Jumlah Jawaban Benar pada Tes Kuantitatif  \\\n",
       "0                                         12   \n",
       "1                                         22   \n",
       "2                                         18   \n",
       "3                                         12   \n",
       "4                                          9   \n",
       "5                                         11   \n",
       "6                                         16   \n",
       "7                                         19   \n",
       "8                                         16   \n",
       "9                                         18   \n",
       "\n",
       "   Jumlah Jawaban Benar pada Tes Pemecahan Masalah  \\\n",
       "0                                                6   \n",
       "1                                                8   \n",
       "2                                                7   \n",
       "3                                                4   \n",
       "4                                                7   \n",
       "5                                                4   \n",
       "6                                                4   \n",
       "7                                                4   \n",
       "8                                                7   \n",
       "9                                                8   \n",
       "\n",
       "  [optional] Kampus/universitas tujuan saat ini (pilihan 1)  \n",
       "0                              Universitas Indonesia         \n",
       "1                                                UCL         \n",
       "2                                         KTH Sweden         \n",
       "3                                                UGM         \n",
       "4                           University of Birmingham         \n",
       "5                                          KU leuven         \n",
       "6                            Universitas Gadjah Mada         \n",
       "7                                                NaN         \n",
       "8                                     Uni of Reading         \n",
       "9                             University of Auckland         "
      ]
     },
     "execution_count": 27,
     "metadata": {},
     "output_type": "execute_result"
    }
   ],
   "source": [
    "df = pd.read_csv('Hasil TES SBK LPDP Gelombang 1 - 2021.csv', encoding ='latin1')\n",
    "df.head(10)"
   ]
  },
  {
   "cell_type": "code",
   "execution_count": 28,
   "id": "composed-lucas",
   "metadata": {},
   "outputs": [
    {
     "data": {
      "text/plain": [
       "(431, 10)"
      ]
     },
     "execution_count": 28,
     "metadata": {},
     "output_type": "execute_result"
    }
   ],
   "source": [
    "# ukuran dari dataset kita. 431 baris dan 10 fitur/kolom\n",
    "df.shape"
   ]
  },
  {
   "cell_type": "markdown",
   "id": "friendly-delivery",
   "metadata": {},
   "source": [
    "Selanjutnya, disini kita ingin mengecek apakah ada fitur yang memiliki nilai nan didalamnya"
   ]
  },
  {
   "cell_type": "code",
   "execution_count": 29,
   "id": "smaller-satin",
   "metadata": {},
   "outputs": [
    {
     "data": {
      "text/plain": [
       "Jenis Beasiswa                                                                           0\n",
       "Tingkat Pendidikan yang Dituju                                                           0\n",
       "Negara Tujuan Kuliah                                                                     0\n",
       "Bidang Studi yang dipilih saat mendaftar                                                 0\n",
       "Mendaftar dengan menggunakan LoA sesuai ketentuan LPDP                                   0\n",
       "Apakah anda dinyatakan Lulus Seleksi Substansi Akademik Pada gelombang I Tahun 2021?     0\n",
       "Jumlah Jawaban Benar pada Tes Penalaran Verbal                                           0\n",
       "Jumlah Jawaban Benar pada Tes Kuantitatif                                                0\n",
       "Jumlah Jawaban Benar pada Tes Pemecahan Masalah                                          0\n",
       "[optional] Kampus/universitas tujuan saat ini (pilihan 1)                               79\n",
       "dtype: int64"
      ]
     },
     "execution_count": 29,
     "metadata": {},
     "output_type": "execute_result"
    }
   ],
   "source": [
    "df.isnull().sum()"
   ]
  },
  {
   "cell_type": "markdown",
   "id": "yellow-backup",
   "metadata": {},
   "source": [
    "Dari hasil pengecekan diatas, kita dapat melihat bahwa hampir keseluruhan fitur tidak memiliki nilai null, kecuali pada fitur terakhir yaitu fitur [ [optional] Kampus/universitas tujuan saat ini (pilihan 1)] sebanyak 79 nilai null yang terdeteksi   "
   ]
  },
  {
   "cell_type": "markdown",
   "id": "threatened-breach",
   "metadata": {},
   "source": [
    "Selanjutnya disini kita akan melihat nilai unik yang ada pada setiap fitur untuk mengidentifikasi langkah-langkah apa yang akan kita lakukan dalam melakukan cleaning data"
   ]
  },
  {
   "cell_type": "code",
   "execution_count": 30,
   "id": "iraqi-trading",
   "metadata": {},
   "outputs": [
    {
     "name": "stdout",
     "output_type": "stream",
     "text": [
      "['Targeted' 'Reguler' 'Afirmasi']\n",
      "['S2' 'S3']\n",
      "['Dalam negeri' 'Luar Negeri']\n",
      "['TRP' 'ENE' 'ELE' 'LIN' 'Dev' 'HUM' 'AFR' 'BUS' 'WAT' 'MAR' 'SOS' 'HOS'\n",
      " 'STA' 'EDU' 'DEV' 'ICT' 'LAW' 'SGY' 'ACF' 'IPA' 'PHA' 'FOR' 'COM' 'DEF'\n",
      " 'PUB' 'SOs' 'ATM' 'ENV' 'ENG' '-' 'CBS' 'CHE' 'KES' 'ECT' 'AER' 'ARC'\n",
      " 'BIO' 'POL' 'Bus' 'M' 'Afr' 'SOC' 'MED' 'CIV' 'PSY' 'MET' 'ECO' 'Bio'\n",
      " 'TEK' 'FOO' 'Tra' 'ART' 'ENT' 'Civ' 'TRA' 'GEO' 'LNY' 'BK' 'ETC' 'PHY'\n",
      " 'INS' 'ACC' 'OCE' 'bus' 'MAT' 'Ipa' 'For' 'BuS' 'EAM' 'NUR' 'PTK' 'ANT'\n",
      " 'CE' 'Trp' 'TEL' 'EDu' 'Hum' '0' 'arc' 'Psi' 'TP' 'TFM' 'AGB' 'Law' '718']\n",
      "['Tidak' 'Ya, dengan Loa']\n",
      "['Ya' 'Tidak']\n",
      "[10 17 16 15 14 13 20 12 18 19 11  9  7  8 21  6 22  0 23]\n",
      "[12 22 18  9 11 16 19 15 14 13 17 21  8 20  7 23 10  6 24  0  5  2 25]\n",
      "[ 6  8  7  4  5  3  9  2 12 10  1  0]\n",
      "['Universitas Indonesia' 'UCL' 'KTH Sweden' 'UGM'\n",
      " 'University of Birmingham' 'KU leuven' 'Universitas Gadjah Mada' nan\n",
      " 'Uni of Reading' 'University of Auckland' 'IHE Delft'\n",
      " 'University of Michigan' 'Universitas Airlangga' 'Durham University'\n",
      " 'UNY' 'New York University' 'Penn State University' 'York University'\n",
      " 'University of Glasgow' 'University of Edinburgh' 'IPB' 'Titech' 'UPI'\n",
      " 'TU Delft' 'Lund University' 'Univ of Leeds' 'LSE' 'ITS' 'UI'\n",
      " 'University of Sussex' 'ITB' 'Pennsylvania State University'\n",
      " 'University of Melbourne' 'Columbia University' 'University of Adelaide'\n",
      " 'Universitas Pendidikan Indonesia' 'unsw' 'Georgetown University' 'Ugm'\n",
      " 'Sweden' 'Wageningen University and Research' 'University of Tokyo' 'MIT'\n",
      " 'ICL' 'INSEAD' 'University of Helsinki' 'University of Twente'\n",
      " 'Johns Hopkins University' 'KCL' 'UNESA' 'Wur' 'Harvard University' 'NUS'\n",
      " 'University of Southern California' 'UC Berkeley'\n",
      " 'University of Manchester' 'U of Alberta' 'Arizona State University' 'U'\n",
      " 'Monash university australia' 'Purdue University' 'ISS'\n",
      " 'University of Groningen' 'Unsoed' 'University of Bristol' 'WUR'\n",
      " 'Stanford University' 'Kth' 'NTU Singapore' 'UAL'\n",
      " 'Bournemouth University' 'UNAIR' 'ANU' 'Nus' 'Uni of Michigan'\n",
      " 'University of Leeds' 'TU München' 'Goldsmiths, University of London'\n",
      " 'Erasmus University Rotterdam' 'Unpad' 'Institut Pertanian Bogor'\n",
      " \"King's College London\" 'Universitas Tadulako' 'TU DELFT'\n",
      " 'Universitas Malang' 'UNNES' 'UC Davis'\n",
      " 'The Australian National University' 'Uppsala University'\n",
      " 'University of Warwick' 'Leiden University' 'The University of Sheffield'\n",
      " 'University of Cambridge' 'Universitas gadjah mada' 'Ghent University'\n",
      " 'Itb' 'Imperial College London' 'MSU' 'KCL - Strategic Communication'\n",
      " 'The University of Manchester' 'Carnegie Mellon University' 'Unsw'\n",
      " 'University of Geneva' 'London School of Hygiene & Tropical Medicine'\n",
      " 'Yale' 'Wageningen University & Research' 'Univ of Melbourne'\n",
      " 'UIN Jakarta' 'University of Sydney' 'universitas indonesia'\n",
      " 'Uni of Auckland' 'Universitas Padjadjaran' 'Ui' 'Monahs University'\n",
      " 'Cornell University' 'University of Wisconsin - Madison'\n",
      " 'Politecnico di Milano' 'University of Pennsylvania'\n",
      " 'King\\x92s College London' 'USA' 'UK' 'JHU' 'UM' 'UPI BANDUNG'\n",
      " 'university of birmingham' 'Monash' 'Universitas Malaya'\n",
      " 'Univ. Brawijaya' 'ETH Zurich' 'University of Amsterdam' 'RWTH Aachen'\n",
      " 'UNSW' 'Radboud University' 'Wageningen' 'UniMelb'\n",
      " 'Wageningen University' 'UNIVERSITAS INDONESIA' 'Yonsei University'\n",
      " 'British Columbia University Canada' 'Leiden University Belanda'\n",
      " 'University of Texas' 'Universitas Negeri Malang'\n",
      " 'Universitas Muhammadiyah Surakarta' 'Univ Pendidikan Indonesia/ UPI'\n",
      " 'Bath School of Management: MBA' 'NTU' 'Sriwijaya' 'Sheffield'\n",
      " 'University of york' 'Warwick' 'Osaka university' 'ugm'\n",
      " 'politecnico di milano' 'ucl' 'undip' 'unpad' 'Universitas Sebelas Maret'\n",
      " 'Unhas' 'ISI Denpasar' 'Upi' 'Universitas hasanuddin'\n",
      " 'Universitas Negeri Yogyakarta' 'Kings College London' 'UB' 'UGM, UI'\n",
      " 'Institut Teknologi Bandung']\n"
     ]
    }
   ],
   "source": [
    "for col in df:\n",
    "    print(df[col].unique())"
   ]
  },
  {
   "cell_type": "markdown",
   "id": "quiet-bacon",
   "metadata": {},
   "source": [
    "Dari hasil diatas, ada beberapa hal yang telah saya pertimbangkan untuk sementara dalam melakukan data cleaning, antara lain:\n",
    "1. Kita akan mengubah kolom dengan nilai object/string menjadi numerik dengan melakukan encoder\n",
    "2. Pada kolom indeks 4 dan 10, kita akan menjadikan seluruh huruf tersebut menjadi huruf kecil. Hal ini dikarenakan ada beberapa data yang harusnya berada pada kelas yang sama menjadi berbeda dikarenakan perbedaan huruf besar dan kecil. contoh fitur pada indeks 4 : TRP dan Trp harusnya satu kelas. jika tidak kita satukan maka saat kita melakukan encoder(perubahan data ke numerik), data tersebut akan berada di kelas yang berbeda\n",
    "3. Pada fitur indeks 4, kita juga dapat melihat bahwa terdapat data dengan nilai yang tidak sesuai (bukan dalam bentuk abjad) seperti, '0', '718', dan '-'. Disini kita juga akan melihat apakah masuk akal data dengan nilai ini jika dilihat hubungannya dengan fitur-fitur lainnya. "
   ]
  },
  {
   "cell_type": "markdown",
   "id": "conscious-prison",
   "metadata": {},
   "source": [
    "## Melakukan Cleaning Data"
   ]
  },
  {
   "cell_type": "markdown",
   "id": "unusual-interval",
   "metadata": {},
   "source": [
    "Pertama kita akan melakukan sesuatu terhadap nilai null yang ada pada kolom terakhir (indeks ke-10)\n",
    "\n",
    "Asumsi : Berdasarkan judul dari fitur tersebut yaitu [[optional] Kampus/universitas tujuan saat ini (pilihan 1)], fitur ini memiliki arti bahwa terdapat pilihan optional yang mana setiap murid dapat mengisi ataupun tidak mengisinya. Oleh karena itu, nilai nan disini berkemungkinan besar memiliki arti bahwa ada murid yang masih belum memiliki keputusan untuk menempuh universitas yang ia inginkan. Oleh karena itu, disini saya akan melakukan imputasi nilai null tersebut menjadi string 'belum'.  "
   ]
  },
  {
   "cell_type": "markdown",
   "id": "patient-landscape",
   "metadata": {},
   "source": [
    "#### Melakukan imputasi data dengan replace()"
   ]
  },
  {
   "cell_type": "code",
   "execution_count": 31,
   "id": "sunrise-identifier",
   "metadata": {},
   "outputs": [
    {
     "data": {
      "text/plain": [
       "0       Universitas Indonesia\n",
       "1                         UCL\n",
       "2                  KTH Sweden\n",
       "3                         UGM\n",
       "4    University of Birmingham\n",
       "5                   KU leuven\n",
       "6     Universitas Gadjah Mada\n",
       "7                       belum\n",
       "8              Uni of Reading\n",
       "9      University of Auckland\n",
       "Name: [optional] Kampus/universitas tujuan saat ini (pilihan 1), dtype: object"
      ]
     },
     "execution_count": 31,
     "metadata": {},
     "output_type": "execute_result"
    }
   ],
   "source": [
    "df.iloc[:, -1] = df.iloc[:, -1].replace(np.nan, 'belum')\n",
    "df.iloc[:, -1].head(10)"
   ]
  },
  {
   "cell_type": "markdown",
   "id": "ahead-stone",
   "metadata": {},
   "source": [
    "Dari hasil diatas, kita dapat melihat bahwa kita telah berhasil melakukan imputasi string 'belum' menggantikan nilai null. "
   ]
  },
  {
   "cell_type": "markdown",
   "id": "exact-bubble",
   "metadata": {},
   "source": [
    "Selanjutnya, Disini kita akan melihat data yang tidak sesuai (bukan dalam bentuk abjad) yang telah disebutkan sebelumnya pada kolom indeks 4"
   ]
  },
  {
   "cell_type": "code",
   "execution_count": 32,
   "id": "drawn-cameroon",
   "metadata": {},
   "outputs": [
    {
     "data": {
      "text/html": [
       "<div>\n",
       "<style scoped>\n",
       "    .dataframe tbody tr th:only-of-type {\n",
       "        vertical-align: middle;\n",
       "    }\n",
       "\n",
       "    .dataframe tbody tr th {\n",
       "        vertical-align: top;\n",
       "    }\n",
       "\n",
       "    .dataframe thead th {\n",
       "        text-align: right;\n",
       "    }\n",
       "</style>\n",
       "<table border=\"1\" class=\"dataframe\">\n",
       "  <thead>\n",
       "    <tr style=\"text-align: right;\">\n",
       "      <th></th>\n",
       "      <th>Jenis Beasiswa</th>\n",
       "      <th>Tingkat Pendidikan yang Dituju</th>\n",
       "      <th>Negara Tujuan Kuliah</th>\n",
       "      <th>Bidang Studi yang dipilih saat mendaftar</th>\n",
       "      <th>Mendaftar dengan menggunakan LoA sesuai ketentuan LPDP</th>\n",
       "      <th>Apakah anda dinyatakan Lulus Seleksi Substansi Akademik Pada gelombang I Tahun 2021?</th>\n",
       "      <th>Jumlah Jawaban Benar pada Tes Penalaran Verbal</th>\n",
       "      <th>Jumlah Jawaban Benar pada Tes Kuantitatif</th>\n",
       "      <th>Jumlah Jawaban Benar pada Tes Pemecahan Masalah</th>\n",
       "      <th>[optional] Kampus/universitas tujuan saat ini (pilihan 1)</th>\n",
       "    </tr>\n",
       "  </thead>\n",
       "  <tbody>\n",
       "    <tr>\n",
       "      <th>54</th>\n",
       "      <td>Afirmasi</td>\n",
       "      <td>S2</td>\n",
       "      <td>Dalam negeri</td>\n",
       "      <td>-</td>\n",
       "      <td>Ya, dengan Loa</td>\n",
       "      <td>Ya</td>\n",
       "      <td>13</td>\n",
       "      <td>9</td>\n",
       "      <td>6</td>\n",
       "      <td>Universitas Pendidikan Indonesia</td>\n",
       "    </tr>\n",
       "    <tr>\n",
       "      <th>123</th>\n",
       "      <td>Targeted</td>\n",
       "      <td>S3</td>\n",
       "      <td>Dalam negeri</td>\n",
       "      <td>-</td>\n",
       "      <td>Ya, dengan Loa</td>\n",
       "      <td>Ya</td>\n",
       "      <td>10</td>\n",
       "      <td>12</td>\n",
       "      <td>8</td>\n",
       "      <td>Universitas Airlangga</td>\n",
       "    </tr>\n",
       "    <tr>\n",
       "      <th>336</th>\n",
       "      <td>Afirmasi</td>\n",
       "      <td>S2</td>\n",
       "      <td>Dalam negeri</td>\n",
       "      <td>0</td>\n",
       "      <td>Ya, dengan Loa</td>\n",
       "      <td>Ya</td>\n",
       "      <td>6</td>\n",
       "      <td>15</td>\n",
       "      <td>3</td>\n",
       "      <td>UM</td>\n",
       "    </tr>\n",
       "    <tr>\n",
       "      <th>426</th>\n",
       "      <td>Reguler</td>\n",
       "      <td>S2</td>\n",
       "      <td>Dalam negeri</td>\n",
       "      <td>718</td>\n",
       "      <td>Tidak</td>\n",
       "      <td>Tidak</td>\n",
       "      <td>23</td>\n",
       "      <td>25</td>\n",
       "      <td>12</td>\n",
       "      <td>UGM</td>\n",
       "    </tr>\n",
       "  </tbody>\n",
       "</table>\n",
       "</div>"
      ],
      "text/plain": [
       "    Jenis Beasiswa Tingkat Pendidikan yang Dituju Negara Tujuan Kuliah  \\\n",
       "54        Afirmasi                             S2         Dalam negeri   \n",
       "123       Targeted                             S3         Dalam negeri   \n",
       "336       Afirmasi                             S2         Dalam negeri   \n",
       "426        Reguler                             S2         Dalam negeri   \n",
       "\n",
       "    Bidang Studi yang dipilih saat mendaftar  \\\n",
       "54                                         -   \n",
       "123                                        -   \n",
       "336                                        0   \n",
       "426                                      718   \n",
       "\n",
       "    Mendaftar dengan menggunakan LoA sesuai ketentuan LPDP  \\\n",
       "54                                      Ya, dengan Loa       \n",
       "123                                     Ya, dengan Loa       \n",
       "336                                     Ya, dengan Loa       \n",
       "426                                              Tidak       \n",
       "\n",
       "    Apakah anda dinyatakan Lulus Seleksi Substansi Akademik Pada gelombang I Tahun 2021?  \\\n",
       "54                                                  Ya                                     \n",
       "123                                                 Ya                                     \n",
       "336                                                 Ya                                     \n",
       "426                                              Tidak                                     \n",
       "\n",
       "     Jumlah Jawaban Benar pada Tes Penalaran Verbal  \\\n",
       "54                                               13   \n",
       "123                                              10   \n",
       "336                                               6   \n",
       "426                                              23   \n",
       "\n",
       "     Jumlah Jawaban Benar pada Tes Kuantitatif  \\\n",
       "54                                           9   \n",
       "123                                         12   \n",
       "336                                         15   \n",
       "426                                         25   \n",
       "\n",
       "     Jumlah Jawaban Benar pada Tes Pemecahan Masalah  \\\n",
       "54                                                 6   \n",
       "123                                                8   \n",
       "336                                                3   \n",
       "426                                               12   \n",
       "\n",
       "    [optional] Kampus/universitas tujuan saat ini (pilihan 1)  \n",
       "54                    Universitas Pendidikan Indonesia         \n",
       "123                              Universitas Airlangga         \n",
       "336                                                 UM         \n",
       "426                                                UGM         "
      ]
     },
     "execution_count": 32,
     "metadata": {},
     "output_type": "execute_result"
    }
   ],
   "source": [
    "df.loc[df['Bidang Studi yang dipilih saat mendaftar'].isin(['718', '0','-'])]"
   ]
  },
  {
   "cell_type": "code",
   "execution_count": 33,
   "id": "anonymous-biography",
   "metadata": {},
   "outputs": [
    {
     "data": {
      "text/plain": [
       "Jumlah Jawaban Benar pada Tes Penalaran Verbal     23\n",
       "Jumlah Jawaban Benar pada Tes Kuantitatif          25\n",
       "Jumlah Jawaban Benar pada Tes Pemecahan Masalah    12\n",
       "dtype: int64"
      ]
     },
     "execution_count": 33,
     "metadata": {},
     "output_type": "execute_result"
    }
   ],
   "source": [
    "df.iloc[:, [6,7,8]].max()"
   ]
  },
  {
   "cell_type": "markdown",
   "id": "incoming-export",
   "metadata": {},
   "source": [
    "Dari hasil diatas terutama untuk baris 426, kita dapat melihat bahwa jumlah tes untuk penalaran verbal, kuantitatif, dan pemecahan masalah memiliki nilai paling besar di antara keseluruhan data lainnya namun dikategorikan tidak lulus. Dari sini kita dapat melihat bahwa kemungkinan besar bahwa data ini adalah kesalahan input. Oleh karena itu, disini saya menyimpulkan bahwa pada kolom \"bidang studi yang dipilih saat mendaftar\" dengan nilai '718' adalah missing value. Begitu juga dengan '-' yang mana ketika kita hapus akan menaikkan akurasi model. Oleh karena itu, kita akan menghapus baris yang memiliki missing value. Namun u-ntuk nilai '0' akan tetap dipertahankan karena ketika baris ini dihapus, maka akurasi model mengalami penurunan yang cukup signifikan."
   ]
  },
  {
   "cell_type": "markdown",
   "id": "rapid-mongolia",
   "metadata": {},
   "source": [
    "#### Melakukan Marking Data"
   ]
  },
  {
   "cell_type": "code",
   "execution_count": 34,
   "id": "stuck-identifier",
   "metadata": {},
   "outputs": [],
   "source": [
    "df['Bidang Studi yang dipilih saat mendaftar'] = df['Bidang Studi yang dipilih saat mendaftar'].replace(['718','-'], np.nan) "
   ]
  },
  {
   "cell_type": "markdown",
   "id": "forbidden-keyboard",
   "metadata": {},
   "source": [
    "#### Menghapus Missing value"
   ]
  },
  {
   "cell_type": "code",
   "execution_count": 35,
   "id": "pharmaceutical-mounting",
   "metadata": {},
   "outputs": [],
   "source": [
    "df = df.loc[df['Bidang Studi yang dipilih saat mendaftar'].isin([np.nan]) == False]\n",
    "df.reset_index(drop = True, inplace = True)"
   ]
  },
  {
   "cell_type": "markdown",
   "id": "ancient-smile",
   "metadata": {},
   "source": [
    "Selanjutnya, disini kita akan mengubah semua huruf yang ada pada fitur bidang studi dan optional kampus pilihan menjadi huruf kecil"
   ]
  },
  {
   "cell_type": "code",
   "execution_count": 36,
   "id": "clear-airplane",
   "metadata": {},
   "outputs": [],
   "source": [
    "df['Bidang Studi yang dipilih saat mendaftar'] = df['Bidang Studi yang dipilih saat mendaftar'].str.lower()\n",
    "df['[optional] Kampus/universitas tujuan saat ini (pilihan 1)'] = df['[optional] Kampus/universitas tujuan saat ini (pilihan 1)'].str.lower()"
   ]
  },
  {
   "cell_type": "markdown",
   "id": "bearing-training",
   "metadata": {},
   "source": [
    "### Mengecek data duplikat"
   ]
  },
  {
   "cell_type": "code",
   "execution_count": 37,
   "id": "altered-average",
   "metadata": {},
   "outputs": [
    {
     "name": "stdout",
     "output_type": "stream",
     "text": [
      "True\n",
      "    Jenis Beasiswa Tingkat Pendidikan yang Dituju Negara Tujuan Kuliah  \\\n",
      "39        Targeted                             S2         Dalam negeri   \n",
      "121        Reguler                             S2         Dalam negeri   \n",
      "287       Targeted                             S2          Luar Negeri   \n",
      "292       Targeted                             S2          Luar Negeri   \n",
      "337       Afirmasi                             S2         Dalam negeri   \n",
      "378       Afirmasi                             S2          Luar Negeri   \n",
      "383       Targeted                             S2         Dalam negeri   \n",
      "384       Targeted                             S2         Dalam negeri   \n",
      "\n",
      "    Bidang Studi yang dipilih saat mendaftar  \\\n",
      "39                                       trp   \n",
      "121                                        m   \n",
      "287                                      pub   \n",
      "292                                      soc   \n",
      "337                                      ipa   \n",
      "378                                      pub   \n",
      "383                                      bus   \n",
      "384                                      trp   \n",
      "\n",
      "    Mendaftar dengan menggunakan LoA sesuai ketentuan LPDP  \\\n",
      "39                                      Ya, dengan Loa       \n",
      "121                                     Ya, dengan Loa       \n",
      "287                                              Tidak       \n",
      "292                                              Tidak       \n",
      "337                                              Tidak       \n",
      "378                                              Tidak       \n",
      "383                                              Tidak       \n",
      "384                                              Tidak       \n",
      "\n",
      "    Apakah anda dinyatakan Lulus Seleksi Substansi Akademik Pada gelombang I Tahun 2021?  \\\n",
      "39                                                  Ya                                     \n",
      "121                                              Tidak                                     \n",
      "287                                                 Ya                                     \n",
      "292                                                 Ya                                     \n",
      "337                                                 Ya                                     \n",
      "378                                                 Ya                                     \n",
      "383                                                 Ya                                     \n",
      "384                                                 Ya                                     \n",
      "\n",
      "     Jumlah Jawaban Benar pada Tes Penalaran Verbal  \\\n",
      "39                                               13   \n",
      "121                                              13   \n",
      "287                                              18   \n",
      "292                                              15   \n",
      "337                                              16   \n",
      "378                                              15   \n",
      "383                                              12   \n",
      "384                                              17   \n",
      "\n",
      "     Jumlah Jawaban Benar pada Tes Kuantitatif  \\\n",
      "39                                          12   \n",
      "121                                         10   \n",
      "287                                         17   \n",
      "292                                         18   \n",
      "337                                          8   \n",
      "378                                         13   \n",
      "383                                         18   \n",
      "384                                         19   \n",
      "\n",
      "     Jumlah Jawaban Benar pada Tes Pemecahan Masalah  \\\n",
      "39                                                 6   \n",
      "121                                                7   \n",
      "287                                                7   \n",
      "292                                                5   \n",
      "337                                                7   \n",
      "378                                                8   \n",
      "383                                                7   \n",
      "384                                                6   \n",
      "\n",
      "    [optional] Kampus/universitas tujuan saat ini (pilihan 1)  \n",
      "39                               universitas airlangga         \n",
      "121                                              unesa         \n",
      "287                                                ucl         \n",
      "292                           university of birmingham         \n",
      "337                                                ugm         \n",
      "378                            university of melbourne         \n",
      "383                                              belum         \n",
      "384                                                ugm         \n"
     ]
    }
   ],
   "source": [
    "# Mengecek data duplikat semua baris yang ada pada dataframe\n",
    "duplicates = df.iloc[:, 0:].duplicated()\n",
    "\n",
    "# Memberikan keterangan False jika tidak ada data duplikat dan True jika ada \n",
    "print(duplicates.any())\n",
    "\n",
    "# Menampilkan baris yang memiliki data duplikat \n",
    "print(df[duplicates])"
   ]
  },
  {
   "cell_type": "markdown",
   "id": "opponent-consultation",
   "metadata": {},
   "source": [
    "Dari hasil diatas, kita dapat melihat bahwa ada 8 baris yang memiliki data duplikat. Oleh karena itu, sekarang kita akan melakukan penghapusan data duplikat tersebut"
   ]
  },
  {
   "cell_type": "code",
   "execution_count": 38,
   "id": "extended-cabin",
   "metadata": {},
   "outputs": [
    {
     "name": "stdout",
     "output_type": "stream",
     "text": [
      "Empty DataFrame\n",
      "Columns: [Jenis Beasiswa, Tingkat Pendidikan yang Dituju, Negara Tujuan Kuliah, Bidang Studi yang dipilih saat mendaftar, Mendaftar dengan menggunakan LoA sesuai ketentuan LPDP, Apakah anda dinyatakan Lulus Seleksi Substansi Akademik Pada gelombang I Tahun 2021?, Jumlah Jawaban Benar pada Tes Penalaran Verbal, Jumlah Jawaban Benar pada Tes Kuantitatif, Jumlah Jawaban Benar pada Tes Pemecahan Masalah, [optional] Kampus/universitas tujuan saat ini (pilihan 1)]\n",
      "Index: []\n"
     ]
    },
    {
     "name": "stderr",
     "output_type": "stream",
     "text": [
      "<ipython-input-38-5db16c916f7e>:5: UserWarning: Boolean Series key will be reindexed to match DataFrame index.\n",
      "  print(df[duplicates])\n"
     ]
    }
   ],
   "source": [
    "# Melakukan penghapusan data duplikat \n",
    "df.drop_duplicates(inplace=True)\n",
    "\n",
    "# Menampilkan baris yang memiliki data duplikat \n",
    "print(df[duplicates])"
   ]
  },
  {
   "cell_type": "markdown",
   "id": "patient-vaccine",
   "metadata": {},
   "source": [
    "Dari hasil diatas, kita dapat melihat bahwa kita telah berhasil menghapus data duplikat tersebut"
   ]
  },
  {
   "cell_type": "markdown",
   "id": "supposed-atlantic",
   "metadata": {},
   "source": [
    "## Mempersiapkan Model"
   ]
  },
  {
   "cell_type": "markdown",
   "id": "prostate-assessment",
   "metadata": {},
   "source": [
    "#### Menentukan Input dan Output\n",
    "\n",
    "Disini kita akan menggunakan fitur pada indeks 5 (dinyatakan lulus atau tidak) sebagai output dan sisanya sebagai input"
   ]
  },
  {
   "cell_type": "code",
   "execution_count": 39,
   "id": "velvet-motion",
   "metadata": {},
   "outputs": [
    {
     "data": {
      "text/plain": [
       "Index(['Jenis Beasiswa', 'Tingkat Pendidikan yang Dituju',\n",
       "       'Negara Tujuan Kuliah', 'Bidang Studi yang dipilih saat mendaftar',\n",
       "       'Mendaftar dengan menggunakan LoA sesuai ketentuan LPDP',\n",
       "       'Jumlah Jawaban Benar pada Tes Penalaran Verbal',\n",
       "       'Jumlah Jawaban Benar pada Tes Kuantitatif',\n",
       "       'Jumlah Jawaban Benar pada Tes Pemecahan Masalah',\n",
       "       '[optional] Kampus/universitas tujuan saat ini (pilihan 1)'],\n",
       "      dtype='object')"
      ]
     },
     "execution_count": 39,
     "metadata": {},
     "output_type": "execute_result"
    }
   ],
   "source": [
    "X, y = df.iloc[:, [0,1,2,3,4,6,7,8,9]] ,  df.iloc[:, 5]\n",
    "X.columns"
   ]
  },
  {
   "cell_type": "markdown",
   "id": "brilliant-spice",
   "metadata": {},
   "source": [
    "#### Mendefinisikan fitur yang akan ditransformasi"
   ]
  },
  {
   "cell_type": "markdown",
   "id": "confirmed-revision",
   "metadata": {},
   "source": [
    "- fitur input pada indeks 0, 1, 4 akan kita encode menggunakan OneHotEncoder()\n",
    "- fitur input pada indeks 2, 3, 8 akan kita encode menggunakan OrdinalEncoder()\n",
    "- fitur output akan kita encode menggunakan LabelEncoder()"
   ]
  },
  {
   "cell_type": "code",
   "execution_count": 40,
   "id": "rapid-cargo",
   "metadata": {},
   "outputs": [],
   "source": [
    "categorial_or_features= X.iloc[:, [2,3,8]].columns\n",
    "categorial_oh_features = X.iloc[:, [0,1,4]].columns\n",
    "y = LabelEncoder().fit_transform(y.astype('str'))"
   ]
  },
  {
   "cell_type": "markdown",
   "id": "spoken-fault",
   "metadata": {},
   "source": [
    "Selanjutnya, disini kita akan memasukkan variabel dari fitur yang akan kita encoder sebelumnya kedalam sebuah list."
   ]
  },
  {
   "cell_type": "code",
   "execution_count": 41,
   "id": "forced-transcription",
   "metadata": {},
   "outputs": [],
   "source": [
    "trans = [  \n",
    "           ('oh', OneHotEncoder(), categorial_oh_features),\n",
    "           ('or', OrdinalEncoder(), categorial_or_features),\n",
    "        ]"
   ]
  },
  {
   "cell_type": "markdown",
   "id": "disciplinary-shannon",
   "metadata": {},
   "source": [
    "Disini, kita akan menggunakan library ColumnTransformer untuk melakukan transformasi fitur dengan metode encoder yang sudah kita persiapkan sebelumnya "
   ]
  },
  {
   "cell_type": "code",
   "execution_count": 42,
   "id": "prepared-mailman",
   "metadata": {},
   "outputs": [
    {
     "name": "stdout",
     "output_type": "stream",
     "text": [
      "(420, 9) (420,)\n",
      "(420, 13) (420,)\n"
     ]
    }
   ],
   "source": [
    "transformer = ColumnTransformer(transformers = trans, remainder = 'passthrough')\n",
    "print(X.shape, y.shape)\n",
    "X = transformer.fit_transform(X)\n",
    "print(X.shape, y.shape)\n"
   ]
  },
  {
   "cell_type": "markdown",
   "id": "raised-belgium",
   "metadata": {},
   "source": [
    "Dari hasil diatas, kita dapat melihat bahwa kita telah berhasil melakukan transformasi fitur dengan melakukan encoder pada data kategori"
   ]
  },
  {
   "cell_type": "markdown",
   "id": "hybrid-begin",
   "metadata": {},
   "source": [
    "### Seleksi Fitur"
   ]
  },
  {
   "cell_type": "markdown",
   "id": "widespread-flush",
   "metadata": {},
   "source": [
    "Selanjutnya, disini kita akan mengidentifikasi score dari setiap fitur yang kita miliki terhadap data output, kemudian kita akan mengambil fitur-fitur dengan score tertinggi. Disini kita akan menggunakan metode chi-square yang mana mayoritas model kita bertipe data kategori.  "
   ]
  },
  {
   "cell_type": "markdown",
   "id": "first-pressing",
   "metadata": {},
   "source": [
    "Pertama, kita akan mengidenifikasi keseluruhan score fitur terhadap y"
   ]
  },
  {
   "cell_type": "code",
   "execution_count": 43,
   "id": "challenging-greece",
   "metadata": {},
   "outputs": [
    {
     "name": "stdout",
     "output_type": "stream",
     "text": [
      "Feature 0: 6.206395\n",
      "Feature 1: 8.801887\n",
      "Feature 2: 4.831103\n",
      "Feature 3: 0.158156\n",
      "Feature 4: 1.119260\n",
      "Feature 5: 0.037805\n",
      "Feature 6: 0.082483\n",
      "Feature 7: 3.287359\n",
      "Feature 8: 1.825986\n",
      "Feature 9: 37.659042\n",
      "Feature 10: 16.206791\n",
      "Feature 11: 122.547501\n",
      "Feature 12: 4.323022\n"
     ]
    },
    {
     "data": {
      "image/png": "[encoded data removed]",
      "text/plain": [
       "<Figure size 360x360 with 1 Axes>"
      ]
     },
     "metadata": {
      "needs_background": "light"
     },
     "output_type": "display_data"
    }
   ],
   "source": [
    "#  membuat sebuah fungsi untuk melakukan seleksi fitur menggunakan metode chi-square\n",
    "def select_features_(X, y):\n",
    "    fs_ = SelectKBest(score_func = chi2, k=\"all\")\n",
    "    fs_.fit(X,y)\n",
    "    X = fs_.transform(X)\n",
    "    return X, fs_\n",
    "X,fs_ = select_features_(X,y)\n",
    "\n",
    "# Melakukan score dari hasil seleksi fitur yang dilakukan untuk keseluruhan fitur\n",
    "for i in range(len(fs_.scores_)):\n",
    "    print('Feature %d: %f' % (i, fs_.scores_[i]))\n",
    "# plot the scores\n",
    "plt.figure(figsize=(5, 5))\n",
    "plt.bar([i for i in range(len(fs_.scores_))], fs_.scores_)\n",
    "plt.show()\n"
   ]
  },
  {
   "cell_type": "markdown",
   "id": "utility-consumption",
   "metadata": {},
   "source": [
    "Dari hasil diatas, kita dapat melihat bahwa score paling tinggi dimiliki oleh fitur indeks 11, yang mana fitur tersebut adalah fitur Tes Kuantitatif. Secara keseluruhan, kita dapat melihat terdapat beberapa nilai yang cukup kecil yaitu berada pada score 0-3 (fitur 3,4,5,6,7,8). Oleh karena itu, berdasarkan hasil seleksi fitur ini, kita hanya akan mengambil 7 fitur dengan score terbaik dari 13 fitur yang ada  "
   ]
  },
  {
   "cell_type": "code",
   "execution_count": 45,
   "id": "international-capacity",
   "metadata": {},
   "outputs": [
    {
     "name": "stdout",
     "output_type": "stream",
     "text": [
      "Feature 0: 6.206395\n",
      "Feature 1: 8.801887\n",
      "Feature 2: 4.831103\n",
      "Feature 3: 37.659042\n",
      "Feature 4: 16.206791\n",
      "Feature 5: 122.547501\n",
      "Feature 6: 4.323022\n"
     ]
    },
    {
     "data": {
      "image/png": "[encoded data removed]",
      "text/plain": [
       "<Figure size 360x360 with 1 Axes>"
      ]
     },
     "metadata": {
      "needs_background": "light"
     },
     "output_type": "display_data"
    }
   ],
   "source": [
    "def select_features_(X, y):\n",
    "    fs_ = SelectKBest(score_func = chi2, k=7)\n",
    "    fs_.fit(X,y)\n",
    "    X = fs_.transform(X)\n",
    "    return X, fs_\n",
    "X,fs_ = select_features_(X,y)\n",
    "\n",
    "# what are scores for the features\n",
    "for i in range(len(fs_.scores_)):\n",
    "    print('Feature %d: %f' % (i, fs_.scores_[i]))\n",
    "# plot the scores\n",
    "plt.figure(figsize=(5, 5))\n",
    "plt.bar([i for i in range(len(fs_.scores_))], fs_.scores_)\n",
    "plt.show()\n"
   ]
  },
  {
   "cell_type": "markdown",
   "id": "orange-sandwich",
   "metadata": {},
   "source": [
    "Dari hasil diatas, kita dapat melihat bahwa kita telah berhasil melakukan seleksi fitur dengan hanya mengambil 7 fitur dengan score terbaik/tertinggi"
   ]
  },
  {
   "cell_type": "markdown",
   "id": "arranged-socket",
   "metadata": {},
   "source": [
    "Selanjutnya, disini kita akan melakukan transformasi fitur terhadap nilai numerik yang ada pada dataset(3 fitur terakhir)\n",
    " - Membuat data menjadi lebih gaussian dengan metode yeo-johnson\n",
    " - Mengubah distribusi data menjadi uniform dengan n_quantiles = 10"
   ]
  },
  {
   "cell_type": "code",
   "execution_count": 46,
   "id": "standing-nothing",
   "metadata": {},
   "outputs": [],
   "source": [
    "#  mengubah X menjadi dataframe terlebih dahulu\n",
    "X = pd.DataFrame(X)\n",
    "\n",
    "#  mendefinisikan fitur yang akan ditransformasi\n",
    "numerical_features = X.iloc[:, -3:].columns \n",
    "\n",
    "#  memasukkan fitur yang telah didefinisikan kedalam sebuah list beserta metode transformasinya\n",
    "trans = [  \n",
    "              ('pow', PowerTransformer(method='yeo-johnson'), numerical_features),\n",
    "              ('qu', QuantileTransformer(n_quantiles=10, output_distribution='uniform'), numerical_features)\n",
    "        ]\n"
   ]
  },
  {
   "cell_type": "markdown",
   "id": "municipal-paper",
   "metadata": {},
   "source": [
    "Menggunakan ColumnsTransformer untuk merealisasikan transformasi fitur yang berada dalam list diatas"
   ]
  },
  {
   "cell_type": "code",
   "execution_count": 47,
   "id": "operating-belgium",
   "metadata": {},
   "outputs": [
    {
     "name": "stdout",
     "output_type": "stream",
     "text": [
      "(420, 7) (420,)\n",
      "(420, 10) (420,)\n"
     ]
    }
   ],
   "source": [
    "transformer = ColumnTransformer(transformers = trans, remainder = 'passthrough')\n",
    "print(X.shape, y.shape)\n",
    "X = transformer.fit_transform(X)\n",
    "print(X.shape, y.shape)\n"
   ]
  },
  {
   "cell_type": "markdown",
   "id": "pointed-grain",
   "metadata": {},
   "source": [
    "Dari hasil diatas, kita dapat melihat bahwa kita telah berhasil melakukan transformasi fitur dengan melakukan encoder baik untuk input(X) maupun output(y). Kita dapat melihat bahwa shape awal; (420, 7), (420,) berubah menjadi (420, 10), (420,)."
   ]
  },
  {
   "cell_type": "markdown",
   "id": "floating-former",
   "metadata": {},
   "source": [
    "### Menentukan Model untuk melakukan prediksi"
   ]
  },
  {
   "cell_type": "markdown",
   "id": "expressed-bedroom",
   "metadata": {},
   "source": [
    "Disini kita akan menggunakan model LogisticRegression() untuk melakukan prediksi apakah seorang murid dinyatakan lulus atau tidak berdasarkan input dan output yang telah kita tetapkan sebelumnya"
   ]
  },
  {
   "cell_type": "code",
   "execution_count": 48,
   "id": "proof-assumption",
   "metadata": {},
   "outputs": [],
   "source": [
    "model = LogisticRegression()"
   ]
  },
  {
   "cell_type": "markdown",
   "id": "italian-earthquake",
   "metadata": {},
   "source": [
    "Selanjutnya, disini kita akan mengunakan RepeatedStratifiedKFold dengan parameter yang telah ditentukan dibawah ini untuk mencari akurasi dari model yang telah kita buat. Disini kita juga akan menggunakan pipeline untuk menggabungkan StandardScaler() dengan model kita (Intinya kita melakukan scaling dengan StandardScaler() terhadap data yang telah kita olah, dan data hasil scaling tersebut langsung dapat kita cari akurasinya dengan model yang kita gunakan )"
   ]
  },
  {
   "cell_type": "code",
   "execution_count": 49,
   "id": "documented-cleaners",
   "metadata": {},
   "outputs": [
    {
     "name": "stdout",
     "output_type": "stream",
     "text": [
      "Accuracy: 0.925 (0.042)\n"
     ]
    }
   ],
   "source": [
    "# Menggunakan repeatedstratifiedKFold()\n",
    "cv = RepeatedStratifiedKFold(n_splits = 10, n_repeats = 3, random_state= 1)\n",
    "\n",
    "#  menggabungkan model dan scaling data yang kita gunakan\n",
    "pipeline = Pipeline(steps=[('sc', StandardScaler()), ('m', model)])\n",
    "\n",
    "# Mencari nilai rata-rata akurasi dengan cross_val_score\n",
    "n_scores = cross_val_score(pipeline, X, y, scoring ='accuracy', cv=cv, n_jobs = -1)\n",
    "print('Accuracy: %.3f (%.3f)' % (mean(n_scores), std(n_scores)))"
   ]
  },
  {
   "cell_type": "markdown",
   "id": "tropical-implement",
   "metadata": {},
   "source": [
    "Dari hasil diatas, kita dapat melihat bahwa akurasi model kita mencapai 92.5 % dengan standar deviasi 0.042. Disini kita dapat melihat bahwa model kita sudah mendapat akurasi yang cukup tinggi"
   ]
  },
  {
   "cell_type": "markdown",
   "id": "varied-theater",
   "metadata": {},
   "source": [
    "### Melakukan Prediksi terhadap X"
   ]
  },
  {
   "cell_type": "code",
   "execution_count": 50,
   "id": "emerging-adoption",
   "metadata": {},
   "outputs": [
    {
     "data": {
      "text/plain": [
       "array([1, 1, 1, 0, 1, 1, 1, 1, 1, 1, 1, 1, 1, 0, 1, 1])"
      ]
     },
     "execution_count": 50,
     "metadata": {},
     "output_type": "execute_result"
    }
   ],
   "source": [
    "# # Melakukan fitting model terhadap X dan y \n",
    "pipeline.fit(X,y)\n",
    "# Melkaukan prediksi terhadap X\n",
    "yhat = pipeline.predict(X)\n",
    "yhat[:16]"
   ]
  },
  {
   "cell_type": "markdown",
   "id": "demonstrated-account",
   "metadata": {},
   "source": [
    "10 data awal untuk y"
   ]
  },
  {
   "cell_type": "code",
   "execution_count": 51,
   "id": "polished-meaning",
   "metadata": {},
   "outputs": [
    {
     "data": {
      "text/plain": [
       "array([1, 1, 1, 0, 1, 1, 1, 1, 1, 1, 1, 1, 1, 0, 1, 1])"
      ]
     },
     "execution_count": 51,
     "metadata": {},
     "output_type": "execute_result"
    }
   ],
   "source": [
    "y[:16]"
   ]
  },
  {
   "cell_type": "markdown",
   "id": "speaking-absorption",
   "metadata": {},
   "source": [
    "Dari hasil diatas, kita dapat melihat bahwa untuk 15 baris pertama, model kita dapat memprediksi hasil yang ada pada kolom output sebelumnya(y) dengan benar "
   ]
  }
 ],
 "metadata": {
  "kernelspec": {
   "display_name": "Python 3",
   "language": "python",
   "name": "python3"
  },
  "language_info": {
   "codemirror_mode": {
    "name": "ipython",
    "version": 3
   },
   "file_extension": ".py",
   "mimetype": "text/x-python",
   "name": "python",
   "nbconvert_exporter": "python",
   "pygments_lexer": "ipython3",
   "version": "3.9.1"
  }
 },
 "nbformat": 4,
 "nbformat_minor": 5
}
